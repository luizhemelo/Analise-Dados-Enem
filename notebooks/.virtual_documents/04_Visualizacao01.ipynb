import pandas as pd
import plotly.express as px
import plotly.graph_objects as go


df = pd.read_pickle('../../data/vis01_enem_data.pickle')
enem = df[df.Ano == 2018].reset_index(drop=True)
enem





import plotly.graph_objects as go

import pandas as pd

fig = go.Figure(data=go.Scattergeo(
        locations = ['Brasil'],
        locationmode = 'country names',
        lon = enem['Longitude'].values,
        lat = enem['Latitude'].values,
        text = enem['Cidade'].values,
        mode = 'markers',
        marker = dict(
            size = 5,
            opacity = 0.8,
            reversescale = True,
            autocolorscale = False,
            symbol = 'circle',
            line = dict(
                width=1,
                color='rgba(102, 102, 102)'
            ),
            colorscale = 'Blues',
            cmin = 0,
            color = enem['Num_Candidatos'].values,
            cmax = enem['Num_Candidatos'].max(),
            colorbar_title="Número de Candidatos"
        )))

fig.update_layout(
    autosize=False,
    width=900,
    height=900
)

fig.update_layout(
        title = 'Distribuição dos Candidatos pelas Cidades Brasileiras)',
        geo = dict(
            scope='south america',
            showland = True,
            landcolor = "rgb(250, 250, 250)",
            subunitcolor = "rgb(217, 217, 217)",
            countrycolor = "rgb(217, 217, 217)",
            countrywidth = 0.8,
            subunitwidth = 0.8
        ),
    )
fig.show()








## EXAMPLE

import plotly.graph_objects as go

import pandas as pd

df = pd.read_csv('https://raw.githubusercontent.com/plotly/datasets/master/2011_february_us_airport_traffic.csv')
df['text'] = df['airport'] + '' + df['city'] + ', ' + df['state'] + '' + 'Arrivals: ' + df['cnt'].astype(str)


fig = go.Figure(data=go.Scattergeo(
        locationmode = 'USA-states',
        lon = df['long'].values,
        lat = df['lat'],
        text = df['text'],
        mode = 'markers',
        marker = dict(
            size = 5,
            opacity = 0.8,
            reversescale = True,
            autocolorscale = False,
            symbol = 'circle',
            line = dict(
                width=1,
                color='rgba(102, 102, 102)'
            ),
            colorscale = 'Blues',
            cmin = 0,
            color = df['cnt'],
            cmax = df['cnt'].max(),
            colorbar_title="Incoming flights<br>February 2011"
        )))

fig.update_layout(
    autosize=False,
    width=900,
    height=900
)

fig.update_layout(
        title = 'Most trafficked US airports<br>(Hover for airport names)',
        geo = dict(
            scope='usa',
            projection_type='albers usa',
            showland = True,
            landcolor = "rgb(250, 250, 250)",
            subunitcolor = "rgb(217, 217, 217)",
            countrycolor = "rgb(217, 217, 217)",
            countrywidth = 0.8,
            subunitwidth = 0.8
        ),
    )
fig.show()



