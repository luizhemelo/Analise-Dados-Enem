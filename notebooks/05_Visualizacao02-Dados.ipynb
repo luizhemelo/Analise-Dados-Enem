{
 "cells": [
  {
   "cell_type": "code",
   "execution_count": 1,
   "id": "2ebec0c0-2f5e-4c56-a56b-7af38fae0de5",
   "metadata": {},
   "outputs": [],
   "source": [
    "import time\n",
    "import numpy as np\n",
    "import pandas as pd\n",
    "from datetime import timedelta\n",
    "\n",
    "from warnings import simplefilter\n",
    "pd.options.mode.chained_assignment = None\n",
    "simplefilter(action=\"ignore\", category=pd.errors.PerformanceWarning)\n",
    "\n",
    "start = time.time()"
   ]
  },
  {
   "cell_type": "code",
   "execution_count": 2,
   "id": "f800612b-939a-410a-8ea4-786adcf9cd6f",
   "metadata": {},
   "outputs": [],
   "source": [
    "cols = ['TP_FAIXA_ETARIA', 'NU_NOTA_CN', 'NU_NOTA_MT', 'NU_NOTA_CH', 'NU_NOTA_LC', 'NU_NOTA_REDACAO']\n",
    "\n",
    "faixa_etaria = {\n",
    "    '1': '<17',\n",
    "    '2': '17',\n",
    "    '3': '18',\n",
    "    '4': '19',\n",
    "    '5': '20',\n",
    "    '6': '21',\n",
    "    '7': '22',\n",
    "    '8': '23',\n",
    "    '9': '24',\n",
    "    '10': '25',\n",
    "    '11': '26-30',\n",
    "    '12': '31-35',\n",
    "    '13': '36-40',\n",
    "    '14': '41-45',\n",
    "    '15': '46-50',\n",
    "    '16': '51-55',\n",
    "    '17': '56-60',\n",
    "    '18': '61-65',\n",
    "    '19': '66-70',\n",
    "    '20': '>70'\n",
    "}\n",
    "cor_raca = {\n",
    "    '0': 'Nao Declarado',\n",
    "    '1': 'Branca',\n",
    "    '2': 'Preta',\n",
    "    '3': 'Parda',\n",
    "    '4': 'Amarela',\n",
    "    '5': 'Indigena',\n",
    "    '6': 'Nao Possui a Informacao'\n",
    "}\n",
    "\n",
    "shapes = {'before': [], 'after': []}\n",
    "\n",
    "def preprocess_dataset(df: pd.DataFrame, year: int):\n",
    "    df = df.dropna(axis=0)\n",
    "    df['ANO'] = year\n",
    "    \n",
    "    #df['TP_FAIXA_ETARIA'] = df['TP_FAIXA_ETARIA'].astype(str)\n",
    "    #df['TP_FAIXA_ETARIA'] = df[\"TP_FAIXA_ETARIA\"].map(faixa_etaria)\n",
    "    \n",
    "    #df['TP_COR_RACA'] = df['TP_COR_RACA'].astype(str)\n",
    "    #df['TP_COR_RACA'] = df[\"TP_COR_RACA\"].map(cor_raca)\n",
    "    \n",
    "    df['NOTA_MEDIA'] = df.apply(lambda x: int(np.mean([x['NU_NOTA_CN'],x['NU_NOTA_MT'],x['NU_NOTA_CH'],x['NU_NOTA_LC'],x['NU_NOTA_REDACAO']])/10)*10, axis=1)\n",
    "    df = df.drop(['NU_NOTA_CN', 'NU_NOTA_MT', 'NU_NOTA_CH', 'NU_NOTA_LC', 'NU_NOTA_REDACAO'], axis=1)\n",
    "    \n",
    "    return df"
   ]
  },
  {
   "cell_type": "code",
   "execution_count": 3,
   "id": "da93d845-3d64-4841-bb31-9007f1e45ec1",
   "metadata": {},
   "outputs": [
    {
     "data": {
      "text/html": [
       "<div>\n",
       "<style scoped>\n",
       "    .dataframe tbody tr th:only-of-type {\n",
       "        vertical-align: middle;\n",
       "    }\n",
       "\n",
       "    .dataframe tbody tr th {\n",
       "        vertical-align: top;\n",
       "    }\n",
       "\n",
       "    .dataframe thead th {\n",
       "        text-align: right;\n",
       "    }\n",
       "</style>\n",
       "<table border=\"1\" class=\"dataframe\">\n",
       "  <thead>\n",
       "    <tr style=\"text-align: right;\">\n",
       "      <th></th>\n",
       "      <th>TP_FAIXA_ETARIA</th>\n",
       "      <th>ANO</th>\n",
       "      <th>NOTA_MEDIA</th>\n",
       "    </tr>\n",
       "  </thead>\n",
       "  <tbody>\n",
       "    <tr>\n",
       "      <th>0</th>\n",
       "      <td>6</td>\n",
       "      <td>2013</td>\n",
       "      <td>450</td>\n",
       "    </tr>\n",
       "    <tr>\n",
       "      <th>1</th>\n",
       "      <td>12</td>\n",
       "      <td>2013</td>\n",
       "      <td>380</td>\n",
       "    </tr>\n",
       "    <tr>\n",
       "      <th>2</th>\n",
       "      <td>3</td>\n",
       "      <td>2013</td>\n",
       "      <td>440</td>\n",
       "    </tr>\n",
       "    <tr>\n",
       "      <th>4</th>\n",
       "      <td>11</td>\n",
       "      <td>2013</td>\n",
       "      <td>510</td>\n",
       "    </tr>\n",
       "    <tr>\n",
       "      <th>6</th>\n",
       "      <td>2</td>\n",
       "      <td>2013</td>\n",
       "      <td>410</td>\n",
       "    </tr>\n",
       "    <tr>\n",
       "      <th>...</th>\n",
       "      <td>...</td>\n",
       "      <td>...</td>\n",
       "      <td>...</td>\n",
       "    </tr>\n",
       "    <tr>\n",
       "      <th>7173554</th>\n",
       "      <td>13</td>\n",
       "      <td>2013</td>\n",
       "      <td>620</td>\n",
       "    </tr>\n",
       "    <tr>\n",
       "      <th>7173557</th>\n",
       "      <td>2</td>\n",
       "      <td>2013</td>\n",
       "      <td>450</td>\n",
       "    </tr>\n",
       "    <tr>\n",
       "      <th>7173559</th>\n",
       "      <td>5</td>\n",
       "      <td>2013</td>\n",
       "      <td>300</td>\n",
       "    </tr>\n",
       "    <tr>\n",
       "      <th>7173561</th>\n",
       "      <td>4</td>\n",
       "      <td>2013</td>\n",
       "      <td>420</td>\n",
       "    </tr>\n",
       "    <tr>\n",
       "      <th>7173562</th>\n",
       "      <td>2</td>\n",
       "      <td>2013</td>\n",
       "      <td>580</td>\n",
       "    </tr>\n",
       "  </tbody>\n",
       "</table>\n",
       "<p>5007934 rows × 3 columns</p>\n",
       "</div>"
      ],
      "text/plain": [
       "         TP_FAIXA_ETARIA   ANO  NOTA_MEDIA\n",
       "0                      6  2013         450\n",
       "1                     12  2013         380\n",
       "2                      3  2013         440\n",
       "4                     11  2013         510\n",
       "6                      2  2013         410\n",
       "...                  ...   ...         ...\n",
       "7173554               13  2013         620\n",
       "7173557                2  2013         450\n",
       "7173559                5  2013         300\n",
       "7173561                4  2013         420\n",
       "7173562                2  2013         580\n",
       "\n",
       "[5007934 rows x 3 columns]"
      ]
     },
     "execution_count": 3,
     "metadata": {},
     "output_type": "execute_result"
    }
   ],
   "source": [
    "# 01\n",
    "enem13 = pd.read_csv(\"../../dados_enem/microdados_enem_2013/DADOS/MICRODADOS_ENEM_2013.csv\", sep=';', encoding = \"ISO-8859-1\")[cols]\n",
    "shapes['before'].append(enem13.shape[0])\n",
    "enem13 = preprocess_dataset(enem13, 2013)\n",
    "shapes['after'].append(enem13.shape[0])\n",
    "enem13"
   ]
  },
  {
   "cell_type": "code",
   "execution_count": null,
   "id": "ffdfad87-2abc-4681-81f5-58d6ebbecf54",
   "metadata": {},
   "outputs": [],
   "source": [
    "# 02\n",
    "enem14 = pd.read_csv(\"../../dados_enem/microdados_enem_2014/DADOS/MICRODADOS_ENEM_2014.csv\", sep=';', encoding = \"ISO-8859-1\")[cols]\n",
    "shapes['before'].append(enem14.shape[0])\n",
    "enem14 = preprocess_dataset(enem14, 2014)\n",
    "shapes['after'].append(enem14.shape[0])\n",
    "enem14"
   ]
  },
  {
   "cell_type": "code",
   "execution_count": null,
   "id": "d7b37a36-ea82-4757-a542-5b51145aaeb8",
   "metadata": {},
   "outputs": [],
   "source": [
    "# 03\n",
    "enem15 = pd.read_csv(\"../../dados_enem/microdados_enem_2015/DADOS/MICRODADOS_ENEM_2015.csv\", sep=';', encoding = \"ISO-8859-1\")[cols]\n",
    "shapes['before'].append(enem15.shape[0])\n",
    "enem15 = preprocess_dataset(enem15, 2015)\n",
    "shapes['after'].append(enem15.shape[0])\n",
    "enem15"
   ]
  },
  {
   "cell_type": "code",
   "execution_count": null,
   "id": "818e748c-4edb-4d88-9782-78fc016dbb8f",
   "metadata": {},
   "outputs": [],
   "source": [
    "# 04\n",
    "enem16 = pd.read_csv(\"../../dados_enem/microdados_enem_2016/DADOS/MICRODADOS_ENEM_2016.csv\", sep=';', encoding = \"ISO-8859-1\")[cols]\n",
    "shapes['before'].append(enem16.shape[0])\n",
    "enem16 = preprocess_dataset(enem16, 2016)\n",
    "shapes['after'].append(enem16.shape[0])\n",
    "enem16"
   ]
  },
  {
   "cell_type": "code",
   "execution_count": null,
   "id": "6c3271c6-a84b-4c55-b6dc-cdd4e4c6129a",
   "metadata": {},
   "outputs": [],
   "source": [
    "# 05\n",
    "enem17 = pd.read_csv(\"../../dados_enem/microdados_enem_2017/DADOS/MICRODADOS_ENEM_2017.csv\", sep=';', encoding = \"ISO-8859-1\")[cols]\n",
    "shapes['before'].append(enem17.shape[0])\n",
    "enem17 = preprocess_dataset(enem17, 2017)\n",
    "shapes['after'].append(enem17.shape[0])\n",
    "enem17"
   ]
  },
  {
   "cell_type": "code",
   "execution_count": null,
   "id": "183d9b48-f248-4ab7-aab0-ecd9e7615200",
   "metadata": {},
   "outputs": [],
   "source": [
    "# 06\n",
    "enem18 = pd.read_csv(\"../../dados_enem/microdados_enem_2018/DADOS/MICRODADOS_ENEM_2018.csv\", sep=';', encoding = \"ISO-8859-1\")[cols]\n",
    "shapes['before'].append(enem18.shape[0])\n",
    "enem18 = preprocess_dataset(enem18, 2018)\n",
    "shapes['after'].append(enem18.shape[0])\n",
    "enem18"
   ]
  },
  {
   "cell_type": "code",
   "execution_count": null,
   "id": "91f03c96-04f4-4346-be58-ae44a50870e4",
   "metadata": {},
   "outputs": [],
   "source": [
    "# 07\n",
    "enem19 = pd.read_csv(\"../../dados_enem/microdados_enem_2019/DADOS/MICRODADOS_ENEM_2019.csv\", sep=';', encoding = \"ISO-8859-1\")[cols]\n",
    "shapes['before'].append(enem19.shape[0])\n",
    "enem19 = preprocess_dataset(enem19, 2019)\n",
    "shapes['after'].append(enem19.shape[0])\n",
    "enem19"
   ]
  },
  {
   "cell_type": "code",
   "execution_count": null,
   "id": "d979cdca-72b8-4d15-af10-64151762c9d1",
   "metadata": {},
   "outputs": [],
   "source": [
    "# 08\n",
    "enem20 = pd.read_csv(\"../../dados_enem/microdados_enem_2020/DADOS/MICRODADOS_ENEM_2020.csv\", sep=';', encoding = \"ISO-8859-1\")[cols]\n",
    "shapes['before'].append(enem20.shape[0])\n",
    "enem20 = preprocess_dataset(enem20, 2020)\n",
    "shapes['after'].append(enem20.shape[0])\n",
    "enem20"
   ]
  },
  {
   "cell_type": "code",
   "execution_count": null,
   "id": "c94b9945-ac23-4e7f-ad5e-81971c96b277",
   "metadata": {},
   "outputs": [],
   "source": [
    "# 09\n",
    "enem21 = pd.read_csv(\"../../dados_enem/microdados_enem_2021/DADOS/MICRODADOS_ENEM_2021.csv\", sep=';', encoding = \"ISO-8859-1\")[cols]\n",
    "shapes['before'].append(enem21.shape[0])\n",
    "enem21 = preprocess_dataset(enem21, 2021)\n",
    "shapes['after'].append(enem21.shape[0])\n",
    "enem21"
   ]
  },
  {
   "cell_type": "code",
   "execution_count": null,
   "id": "af7cd25b-07ce-442f-a2d0-151d884d7784",
   "metadata": {},
   "outputs": [],
   "source": [
    "# 10\n",
    "enem22 = pd.read_csv(\"../../dados_enem/microdados_enem_2022/DADOS/MICRODADOS_ENEM_2022.csv\", sep=';', encoding = \"ISO-8859-1\")[cols]\n",
    "shapes['before'].append(enem22.shape[0])\n",
    "enem22 = preprocess_dataset(enem22, 2022)\n",
    "shapes['after'].append(enem22.shape[0])\n",
    "enem22"
   ]
  },
  {
   "cell_type": "code",
   "execution_count": null,
   "id": "6890a7a5",
   "metadata": {},
   "outputs": [],
   "source": [
    "shapes.to_pickle(\"../../data/vis03_enem_data.pickle\")\n",
    "print(shapes)"
   ]
  },
  {
   "cell_type": "code",
   "execution_count": null,
   "id": "5a7129c4-4095-497c-ae7c-509c3114c75e",
   "metadata": {},
   "outputs": [],
   "source": [
    "final = pd.concat([enem13,enem14,enem15,enem16,enem17,enem18,enem19,enem20,enem21,enem22]).reset_index(drop=True)\n",
    "final.to_pickle(\"../../data/vis02_enem_data.pickle\")\n",
    "final"
   ]
  },
  {
   "cell_type": "code",
   "execution_count": null,
   "id": "809c4aa5-f6e9-44da-aa66-c4d5aed64f19",
   "metadata": {},
   "outputs": [],
   "source": [
    "print(\"Elapsed time (h:mm:ss):\",str(timedelta(seconds=(time.time() - start))))"
   ]
  },
  {
   "cell_type": "code",
   "execution_count": null,
   "id": "af7e233e-38d0-47b9-88a6-c56401987c11",
   "metadata": {},
   "outputs": [],
   "source": []
  }
 ],
 "metadata": {
  "kernelspec": {
   "display_name": "Python 3 (ipykernel)",
   "language": "python",
   "name": "python3"
  },
  "language_info": {
   "codemirror_mode": {
    "name": "ipython",
    "version": 3
   },
   "file_extension": ".py",
   "mimetype": "text/x-python",
   "name": "python",
   "nbconvert_exporter": "python",
   "pygments_lexer": "ipython3",
   "version": "3.8.16"
  }
 },
 "nbformat": 4,
 "nbformat_minor": 5
}
