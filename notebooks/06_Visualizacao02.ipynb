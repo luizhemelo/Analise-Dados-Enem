{
 "cells": [
  {
   "cell_type": "code",
   "execution_count": 11,
   "id": "656fd5b2-1ab8-4f9d-8c0a-73c90e89f71a",
   "metadata": {},
   "outputs": [],
   "source": [
    "import numpy as np\n",
    "import pandas as pd\n",
    "from math import nan\n",
    "import plotly.express as px\n",
    "from plotly.io import to_html\n",
    "from ridgeplot import ridgeplot\n",
    "from collections import Counter\n",
    "import plotly.graph_objects as go\n",
    "from random import shuffle, sample\n",
    "\n",
    "pd.options.display.max_rows = 500"
   ]
  },
  {
   "cell_type": "code",
   "execution_count": null,
   "id": "afa56fd3",
   "metadata": {},
   "outputs": [],
   "source": [
    "year_list = [2013,2014,2015,2016,2017,2018,2019,2020,2021,2022]\n",
    "\n",
    "def stratify_sampling(x, number):\n",
    "    \"\"\"\n",
    "    ARGUMENTS:\n",
    "    x      = Python list\n",
    "    number = integer indicating the number of samples you want\n",
    "    \"\"\"\n",
    "    counts = Counter(x)\n",
    "    unique = list(counts.keys())\n",
    "    list_size = number/len(x)\n",
    "\n",
    "    sample = []\n",
    "    for i in range(len(unique)):\n",
    "        batch = int(list_size*counts[unique[i]])\n",
    "        if batch == 0: sample.append(unique[i])\n",
    "        else:\n",
    "            for j in range(batch): sample.append(unique[i])\n",
    "    \n",
    "    diff = number - len(sample)\n",
    "    batch = random.sample(x, diff)\n",
    "    for i in range(diff): sample.append(batch[i])\n",
    "    \n",
    "    random.shuffle(sample)\n",
    "    \n",
    "    return sample"
   ]
  },
  {
   "cell_type": "code",
   "execution_count": 2,
   "id": "a4454128-f3df-4a17-aacf-ea249dd6bcc2",
   "metadata": {},
   "outputs": [
    {
     "data": {
      "text/html": [
       "<div>\n",
       "<style scoped>\n",
       "    .dataframe tbody tr th:only-of-type {\n",
       "        vertical-align: middle;\n",
       "    }\n",
       "\n",
       "    .dataframe tbody tr th {\n",
       "        vertical-align: top;\n",
       "    }\n",
       "\n",
       "    .dataframe thead th {\n",
       "        text-align: right;\n",
       "    }\n",
       "</style>\n",
       "<table border=\"1\" class=\"dataframe\">\n",
       "  <thead>\n",
       "    <tr style=\"text-align: right;\">\n",
       "      <th></th>\n",
       "      <th>TP_FAIXA_ETARIA</th>\n",
       "      <th>TP_COR_RACA</th>\n",
       "      <th>ANO</th>\n",
       "      <th>NOTA_MEDIA</th>\n",
       "    </tr>\n",
       "  </thead>\n",
       "  <tbody>\n",
       "    <tr>\n",
       "      <th>0</th>\n",
       "      <td>21</td>\n",
       "      <td>Branca</td>\n",
       "      <td>2013</td>\n",
       "      <td>450</td>\n",
       "    </tr>\n",
       "    <tr>\n",
       "      <th>1</th>\n",
       "      <td>31-35</td>\n",
       "      <td>Parda</td>\n",
       "      <td>2013</td>\n",
       "      <td>380</td>\n",
       "    </tr>\n",
       "    <tr>\n",
       "      <th>2</th>\n",
       "      <td>18</td>\n",
       "      <td>Parda</td>\n",
       "      <td>2013</td>\n",
       "      <td>440</td>\n",
       "    </tr>\n",
       "    <tr>\n",
       "      <th>3</th>\n",
       "      <td>26-30</td>\n",
       "      <td>Branca</td>\n",
       "      <td>2013</td>\n",
       "      <td>510</td>\n",
       "    </tr>\n",
       "    <tr>\n",
       "      <th>4</th>\n",
       "      <td>17</td>\n",
       "      <td>Branca</td>\n",
       "      <td>2013</td>\n",
       "      <td>410</td>\n",
       "    </tr>\n",
       "    <tr>\n",
       "      <th>...</th>\n",
       "      <td>...</td>\n",
       "      <td>...</td>\n",
       "      <td>...</td>\n",
       "      <td>...</td>\n",
       "    </tr>\n",
       "    <tr>\n",
       "      <th>41572953</th>\n",
       "      <td>31-35</td>\n",
       "      <td>Branca</td>\n",
       "      <td>2022</td>\n",
       "      <td>480</td>\n",
       "    </tr>\n",
       "    <tr>\n",
       "      <th>41572954</th>\n",
       "      <td>26-30</td>\n",
       "      <td>Preta</td>\n",
       "      <td>2022</td>\n",
       "      <td>610</td>\n",
       "    </tr>\n",
       "    <tr>\n",
       "      <th>41572955</th>\n",
       "      <td>17</td>\n",
       "      <td>Parda</td>\n",
       "      <td>2022</td>\n",
       "      <td>540</td>\n",
       "    </tr>\n",
       "    <tr>\n",
       "      <th>41572956</th>\n",
       "      <td>26-30</td>\n",
       "      <td>Branca</td>\n",
       "      <td>2022</td>\n",
       "      <td>500</td>\n",
       "    </tr>\n",
       "    <tr>\n",
       "      <th>41572957</th>\n",
       "      <td>17</td>\n",
       "      <td>Branca</td>\n",
       "      <td>2022</td>\n",
       "      <td>600</td>\n",
       "    </tr>\n",
       "  </tbody>\n",
       "</table>\n",
       "<p>41572958 rows × 4 columns</p>\n",
       "</div>"
      ],
      "text/plain": [
       "         TP_FAIXA_ETARIA TP_COR_RACA   ANO  NOTA_MEDIA\n",
       "0                     21      Branca  2013         450\n",
       "1                  31-35       Parda  2013         380\n",
       "2                     18       Parda  2013         440\n",
       "3                  26-30      Branca  2013         510\n",
       "4                     17      Branca  2013         410\n",
       "...                  ...         ...   ...         ...\n",
       "41572953           31-35      Branca  2022         480\n",
       "41572954           26-30       Preta  2022         610\n",
       "41572955              17       Parda  2022         540\n",
       "41572956           26-30      Branca  2022         500\n",
       "41572957              17      Branca  2022         600\n",
       "\n",
       "[41572958 rows x 4 columns]"
      ]
     },
     "execution_count": 2,
     "metadata": {},
     "output_type": "execute_result"
    }
   ],
   "source": [
    "df = pd.read_pickle('../data/vis02_enem_data.pickle')\n",
    "df"
   ]
  },
  {
   "cell_type": "markdown",
   "id": "867ab7c4-278d-4574-a649-b9d19ee5211d",
   "metadata": {
    "tags": []
   },
   "source": [
    "## TP_COR_RACA"
   ]
  },
  {
   "cell_type": "code",
   "execution_count": 3,
   "id": "1122f647-3675-412b-a551-8607d4613f3d",
   "metadata": {},
   "outputs": [],
   "source": [
    "year_list = [2013,2014,2015,2016,2017,2018,2019,2020,2021,2022]\n",
    "racas = ['Nao Declarado','Branca','Preta','Parda','Amarela','Indigena','Nao Possui a Informacao']"
   ]
  },
  {
   "cell_type": "code",
   "execution_count": 4,
   "id": "53c6fc19-bc72-4f3e-a959-0f6d6c9efd21",
   "metadata": {},
   "outputs": [],
   "source": [
    "array_dict = {}\n",
    "for year in year_list:\n",
    "    sub = df[df.ANO == year]\n",
    "    count = sub['TP_COR_RACA'].value_counts()\n",
    "    \n",
    "    raca_count = [count['Nao Declarado'],count['Branca'],count['Preta'],count['Parda'],count['Amarela'],count['Indigena']]\n",
    "    if count.shape[0] == 7: raca_count.append(count['Nao Possui a Informacao'])\n",
    "    else: raca_count.append(0)\n",
    "    \n",
    "    array_dict[f'x_{year}']      = np.array(racas)\n",
    "    array_dict[f'y_{year}']      = np.array(raca_count)\n",
    "    array_dict[f'y_{year}_norm'] = (array_dict[f'y_{year}'] - array_dict[f'y_{year}'].min()) \\\n",
    "                            / (array_dict[f'y_{year}'].max() - array_dict[f'y_{year}'].min())\n",
    "    array_dict[f'y_{year}']      = [\"Num Candidatos: \"+str(i) for i in raca_count]"
   ]
  },
  {
   "cell_type": "code",
   "execution_count": 21,
   "id": "86940491-10f2-439d-9962-a656fcf76d4c",
   "metadata": {},
   "outputs": [
    {
     "data": {
      "application/vnd.plotly.v1+json": {
       "config": {
        "plotlyServerURL": "https://plot.ly"
       },
       "data": [
        {
         "line": {
          "color": "white"
         },
         "mode": "lines",
         "type": "scatter",
         "x": [
          "Nao Declarado",
          "Branca",
          "Preta",
          "Parda",
          "Amarela",
          "Indigena",
          "Nao Possui a Informacao"
         ],
         "y": [
          10
         ]
        },
        {
         "fill": "tonexty",
         "name": "2013",
         "text": [
          "Num Candidatos: 82560",
          "Num Candidatos: 2023255",
          "Num Candidatos: 600209",
          "Num Candidatos: 2156946",
          "Num Candidatos: 113680",
          "Num Candidatos: 31284",
          "Num Candidatos: 0"
         ],
         "type": "scatter",
         "x": [
          "Nao Declarado",
          "Branca",
          "Preta",
          "Parda",
          "Amarela",
          "Indigena",
          "Nao Possui a Informacao"
         ],
         "y": [
          10.438276340715067,
          11.338018383399492,
          10.678267977037905,
          11.4,
          10.45270414743809,
          10.41450384015177,
          10.4
         ]
        },
        {
         "line": {
          "color": "white"
         },
         "mode": "lines",
         "type": "scatter",
         "x": [
          "Nao Declarado",
          "Branca",
          "Preta",
          "Parda",
          "Amarela",
          "Indigena",
          "Nao Possui a Informacao"
         ],
         "y": [
          9
         ]
        },
        {
         "fill": "tonexty",
         "name": "2014",
         "text": [
          "Num Candidatos: 90667",
          "Num Candidatos: 2297237",
          "Num Candidatos: 735788",
          "Num Candidatos: 2658254",
          "Num Candidatos: 130120",
          "Num Candidatos: 35848",
          "Num Candidatos: 0"
         ],
         "type": "scatter",
         "x": [
          "Nao Declarado",
          "Branca",
          "Preta",
          "Parda",
          "Amarela",
          "Indigena",
          "Nao Possui a Informacao"
         ],
         "y": [
          9.434107726349701,
          10.264190178967096,
          9.676793714972309,
          10.4,
          9.448949423192818,
          9.413485543518416,
          9.4
         ]
        },
        {
         "line": {
          "color": "white"
         },
         "mode": "lines",
         "type": "scatter",
         "x": [
          "Nao Declarado",
          "Branca",
          "Preta",
          "Parda",
          "Amarela",
          "Indigena",
          "Nao Possui a Informacao"
         ],
         "y": [
          8
         ]
        },
        {
         "fill": "tonexty",
         "name": "2015",
         "text": [
          "Num Candidatos: 86941",
          "Num Candidatos: 2103579",
          "Num Candidatos: 713220",
          "Num Candidatos: 2533490",
          "Num Candidatos: 125209",
          "Num Candidatos: 30388",
          "Num Candidatos: 12078"
         ],
         "type": "scatter",
         "x": [
          "Nao Declarado",
          "Branca",
          "Preta",
          "Parda",
          "Amarela",
          "Indigena",
          "Nao Possui a Informacao"
         ],
         "y": [
          8.42969090335098,
          9.229495933231062,
          8.678075142023596,
          9.4,
          8.444868113580803,
          8.407261804100242,
          8.4
         ]
        },
        {
         "line": {
          "color": "white"
         },
         "mode": "lines",
         "type": "scatter",
         "x": [
          "Nao Declarado",
          "Branca",
          "Preta",
          "Parda",
          "Amarela",
          "Indigena",
          "Nao Possui a Informacao"
         ],
         "y": [
          7
         ]
        },
        {
         "fill": "tonexty",
         "name": "2016",
         "text": [
          "Num Candidatos: 104495",
          "Num Candidatos: 2104339",
          "Num Candidatos: 754414",
          "Num Candidatos: 2684885",
          "Num Candidatos: 136274",
          "Num Candidatos: 33723",
          "Num Candidatos: 134"
         ],
         "type": "scatter",
         "x": [
          "Nao Declarado",
          "Branca",
          "Preta",
          "Parda",
          "Amarela",
          "Indigena",
          "Nao Possui a Informacao"
         ],
         "y": [
          7.438871761291829,
          8.183761697081033,
          7.680949704460488,
          8.4,
          7.450708613201001,
          7.412511029886943,
          7.4
         ]
        },
        {
         "line": {
          "color": "white"
         },
         "mode": "lines",
         "type": "scatter",
         "x": [
          "Nao Declarado",
          "Branca",
          "Preta",
          "Parda",
          "Amarela",
          "Indigena",
          "Nao Possui a Informacao"
         ],
         "y": [
          6
         ]
        },
        {
         "fill": "tonexty",
         "name": "2017",
         "text": [
          "Num Candidatos: 82509",
          "Num Candidatos: 1619075",
          "Num Candidatos: 557760",
          "Num Candidatos: 2039229",
          "Num Candidatos: 102304",
          "Num Candidatos: 25815",
          "Num Candidatos: 0"
         ],
         "type": "scatter",
         "x": [
          "Nao Declarado",
          "Branca",
          "Preta",
          "Parda",
          "Amarela",
          "Indigena",
          "Nao Possui a Informacao"
         ],
         "y": [
          6.440460880067908,
          7.193964287483162,
          6.673515137338671,
          7.4,
          6.450167980153283,
          6.41265919619621,
          6.4
         ]
        },
        {
         "line": {
          "color": "white"
         },
         "mode": "lines",
         "type": "scatter",
         "x": [
          "Nao Declarado",
          "Branca",
          "Preta",
          "Parda",
          "Amarela",
          "Indigena",
          "Nao Possui a Informacao"
         ],
         "y": [
          5
         ]
        },
        {
         "fill": "tonexty",
         "name": "2018",
         "text": [
          "Num Candidatos: 77971",
          "Num Candidatos: 1440815",
          "Num Candidatos: 477383",
          "Num Candidatos: 1787696",
          "Num Candidatos: 87504",
          "Num Candidatos: 22360",
          "Num Candidatos: 0"
         ],
         "type": "scatter",
         "x": [
          "Nao Declarado",
          "Branca",
          "Preta",
          "Parda",
          "Amarela",
          "Indigena",
          "Nao Possui a Informacao"
         ],
         "y": [
          5.443615357420949,
          6.2059619756379165,
          5.6670381317628955,
          6.4,
          5.448947919556793,
          5.4125077194332825,
          5.4
         ]
        },
        {
         "line": {
          "color": "white"
         },
         "mode": "lines",
         "type": "scatter",
         "x": [
          "Nao Declarado",
          "Branca",
          "Preta",
          "Parda",
          "Amarela",
          "Indigena",
          "Nao Possui a Informacao"
         ],
         "y": [
          4
         ]
        },
        {
         "fill": "tonexty",
         "name": "2019",
         "text": [
          "Num Candidatos: 73433",
          "Num Candidatos: 1374880",
          "Num Candidatos: 453212",
          "Num Candidatos: 1694111",
          "Num Candidatos: 84750",
          "Num Candidatos: 21523",
          "Num Candidatos: 0"
         ],
         "type": "scatter",
         "x": [
          "Nao Declarado",
          "Branca",
          "Preta",
          "Parda",
          "Amarela",
          "Indigena",
          "Nao Possui a Informacao"
         ],
         "y": [
          4.443346038128553,
          5.211564295373798,
          4.6675220218746,
          5.4,
          4.45002623795017,
          4.412704598459015,
          4.4
         ]
        },
        {
         "line": {
          "color": "white"
         },
         "mode": "lines",
         "type": "scatter",
         "x": [
          "Nao Declarado",
          "Branca",
          "Preta",
          "Parda",
          "Amarela",
          "Indigena",
          "Nao Possui a Informacao"
         ],
         "y": [
          3
         ]
        },
        {
         "fill": "tonexty",
         "name": "2020",
         "text": [
          "Num Candidatos: 50000",
          "Num Candidatos: 984621",
          "Num Candidatos: 313315",
          "Num Candidatos: 1169331",
          "Num Candidatos: 57449",
          "Num Candidatos: 13965",
          "Num Candidatos: 0"
         ],
         "type": "scatter",
         "x": [
          "Nao Declarado",
          "Branca",
          "Preta",
          "Parda",
          "Amarela",
          "Indigena",
          "Nao Possui a Informacao"
         ],
         "y": [
          3.4427594923935136,
          4.242037883199881,
          3.667943807185476,
          4.4,
          3.4491298015702996,
          3.4119427262255084,
          3.4
         ]
        },
        {
         "line": {
          "color": "white"
         },
         "mode": "lines",
         "type": "scatter",
         "x": [
          "Nao Declarado",
          "Branca",
          "Preta",
          "Parda",
          "Amarela",
          "Indigena",
          "Nao Possui a Informacao"
         ],
         "y": [
          2
         ]
        },
        {
         "fill": "tonexty",
         "name": "2021",
         "text": [
          "Num Candidatos: 43733",
          "Num Candidatos: 979456",
          "Num Candidatos: 246568",
          "Num Candidatos: 912861",
          "Num Candidatos: 44947",
          "Num Candidatos: 10540",
          "Num Candidatos: 2"
         ],
         "type": "scatter",
         "x": [
          "Nao Declarado",
          "Branca",
          "Preta",
          "Parda",
          "Amarela",
          "Indigena",
          "Nao Possui a Informacao"
         ],
         "y": [
          2.4446483448941962,
          3.4,
          2.6517382133311007,
          3.3320080371308913,
          2.445887810964068,
          2.410759055555442,
          2.4
         ]
        },
        {
         "line": {
          "color": "white"
         },
         "mode": "lines",
         "type": "scatter",
         "x": [
          "Nao Declarado",
          "Branca",
          "Preta",
          "Parda",
          "Amarela",
          "Indigena",
          "Nao Possui a Informacao"
         ],
         "y": [
          1
         ]
        },
        {
         "fill": "tonexty",
         "name": "2022",
         "text": [
          "Num Candidatos: 40871",
          "Num Candidatos: 1026418",
          "Num Candidatos: 255863",
          "Num Candidatos: 966698",
          "Num Candidatos: 43782",
          "Num Candidatos: 11191",
          "Num Candidatos: 0"
         ],
         "type": "scatter",
         "x": [
          "Nao Declarado",
          "Branca",
          "Preta",
          "Parda",
          "Amarela",
          "Indigena",
          "Nao Possui a Informacao"
         ],
         "y": [
          1.4398190600710432,
          2.4,
          1.6492775847656609,
          2.3418170764737174,
          1.4426551366012679,
          1.4109029654585168,
          1.4
         ]
        }
       ],
       "layout": {
        "annotations": [
         {
          "showarrow": false,
          "text": "2013",
          "x": -0.2,
          "y": 10,
          "yshift": 7
         },
         {
          "showarrow": false,
          "text": "2014",
          "x": -0.2,
          "y": 9,
          "yshift": 7
         },
         {
          "showarrow": false,
          "text": "2015",
          "x": -0.2,
          "y": 8,
          "yshift": 7
         },
         {
          "showarrow": false,
          "text": "2016",
          "x": -0.2,
          "y": 7,
          "yshift": 7
         },
         {
          "showarrow": false,
          "text": "2017",
          "x": -0.2,
          "y": 6,
          "yshift": 7
         },
         {
          "showarrow": false,
          "text": "2018",
          "x": -0.2,
          "y": 5,
          "yshift": 7
         },
         {
          "showarrow": false,
          "text": "2019",
          "x": -0.2,
          "y": 4,
          "yshift": 7
         },
         {
          "showarrow": false,
          "text": "2020",
          "x": -0.2,
          "y": 3,
          "yshift": 7
         },
         {
          "showarrow": false,
          "text": "2021",
          "x": -0.2,
          "y": 2,
          "yshift": 7
         },
         {
          "showarrow": false,
          "text": "2022",
          "x": -0.2,
          "y": 1,
          "yshift": 7
         }
        ],
        "height": 700,
        "showlegend": false,
        "template": {
         "data": {
          "bar": [
           {
            "error_x": {
             "color": "#2a3f5f"
            },
            "error_y": {
             "color": "#2a3f5f"
            },
            "marker": {
             "line": {
              "color": "#E5ECF6",
              "width": 0.5
             },
             "pattern": {
              "fillmode": "overlay",
              "size": 10,
              "solidity": 0.2
             }
            },
            "type": "bar"
           }
          ],
          "barpolar": [
           {
            "marker": {
             "line": {
              "color": "#E5ECF6",
              "width": 0.5
             },
             "pattern": {
              "fillmode": "overlay",
              "size": 10,
              "solidity": 0.2
             }
            },
            "type": "barpolar"
           }
          ],
          "carpet": [
           {
            "aaxis": {
             "endlinecolor": "#2a3f5f",
             "gridcolor": "white",
             "linecolor": "white",
             "minorgridcolor": "white",
             "startlinecolor": "#2a3f5f"
            },
            "baxis": {
             "endlinecolor": "#2a3f5f",
             "gridcolor": "white",
             "linecolor": "white",
             "minorgridcolor": "white",
             "startlinecolor": "#2a3f5f"
            },
            "type": "carpet"
           }
          ],
          "choropleth": [
           {
            "colorbar": {
             "outlinewidth": 0,
             "ticks": ""
            },
            "type": "choropleth"
           }
          ],
          "contour": [
           {
            "colorbar": {
             "outlinewidth": 0,
             "ticks": ""
            },
            "colorscale": [
             [
              0,
              "#0d0887"
             ],
             [
              0.1111111111111111,
              "#46039f"
             ],
             [
              0.2222222222222222,
              "#7201a8"
             ],
             [
              0.3333333333333333,
              "#9c179e"
             ],
             [
              0.4444444444444444,
              "#bd3786"
             ],
             [
              0.5555555555555556,
              "#d8576b"
             ],
             [
              0.6666666666666666,
              "#ed7953"
             ],
             [
              0.7777777777777778,
              "#fb9f3a"
             ],
             [
              0.8888888888888888,
              "#fdca26"
             ],
             [
              1,
              "#f0f921"
             ]
            ],
            "type": "contour"
           }
          ],
          "contourcarpet": [
           {
            "colorbar": {
             "outlinewidth": 0,
             "ticks": ""
            },
            "type": "contourcarpet"
           }
          ],
          "heatmap": [
           {
            "colorbar": {
             "outlinewidth": 0,
             "ticks": ""
            },
            "colorscale": [
             [
              0,
              "#0d0887"
             ],
             [
              0.1111111111111111,
              "#46039f"
             ],
             [
              0.2222222222222222,
              "#7201a8"
             ],
             [
              0.3333333333333333,
              "#9c179e"
             ],
             [
              0.4444444444444444,
              "#bd3786"
             ],
             [
              0.5555555555555556,
              "#d8576b"
             ],
             [
              0.6666666666666666,
              "#ed7953"
             ],
             [
              0.7777777777777778,
              "#fb9f3a"
             ],
             [
              0.8888888888888888,
              "#fdca26"
             ],
             [
              1,
              "#f0f921"
             ]
            ],
            "type": "heatmap"
           }
          ],
          "heatmapgl": [
           {
            "colorbar": {
             "outlinewidth": 0,
             "ticks": ""
            },
            "colorscale": [
             [
              0,
              "#0d0887"
             ],
             [
              0.1111111111111111,
              "#46039f"
             ],
             [
              0.2222222222222222,
              "#7201a8"
             ],
             [
              0.3333333333333333,
              "#9c179e"
             ],
             [
              0.4444444444444444,
              "#bd3786"
             ],
             [
              0.5555555555555556,
              "#d8576b"
             ],
             [
              0.6666666666666666,
              "#ed7953"
             ],
             [
              0.7777777777777778,
              "#fb9f3a"
             ],
             [
              0.8888888888888888,
              "#fdca26"
             ],
             [
              1,
              "#f0f921"
             ]
            ],
            "type": "heatmapgl"
           }
          ],
          "histogram": [
           {
            "marker": {
             "pattern": {
              "fillmode": "overlay",
              "size": 10,
              "solidity": 0.2
             }
            },
            "type": "histogram"
           }
          ],
          "histogram2d": [
           {
            "colorbar": {
             "outlinewidth": 0,
             "ticks": ""
            },
            "colorscale": [
             [
              0,
              "#0d0887"
             ],
             [
              0.1111111111111111,
              "#46039f"
             ],
             [
              0.2222222222222222,
              "#7201a8"
             ],
             [
              0.3333333333333333,
              "#9c179e"
             ],
             [
              0.4444444444444444,
              "#bd3786"
             ],
             [
              0.5555555555555556,
              "#d8576b"
             ],
             [
              0.6666666666666666,
              "#ed7953"
             ],
             [
              0.7777777777777778,
              "#fb9f3a"
             ],
             [
              0.8888888888888888,
              "#fdca26"
             ],
             [
              1,
              "#f0f921"
             ]
            ],
            "type": "histogram2d"
           }
          ],
          "histogram2dcontour": [
           {
            "colorbar": {
             "outlinewidth": 0,
             "ticks": ""
            },
            "colorscale": [
             [
              0,
              "#0d0887"
             ],
             [
              0.1111111111111111,
              "#46039f"
             ],
             [
              0.2222222222222222,
              "#7201a8"
             ],
             [
              0.3333333333333333,
              "#9c179e"
             ],
             [
              0.4444444444444444,
              "#bd3786"
             ],
             [
              0.5555555555555556,
              "#d8576b"
             ],
             [
              0.6666666666666666,
              "#ed7953"
             ],
             [
              0.7777777777777778,
              "#fb9f3a"
             ],
             [
              0.8888888888888888,
              "#fdca26"
             ],
             [
              1,
              "#f0f921"
             ]
            ],
            "type": "histogram2dcontour"
           }
          ],
          "mesh3d": [
           {
            "colorbar": {
             "outlinewidth": 0,
             "ticks": ""
            },
            "type": "mesh3d"
           }
          ],
          "parcoords": [
           {
            "line": {
             "colorbar": {
              "outlinewidth": 0,
              "ticks": ""
             }
            },
            "type": "parcoords"
           }
          ],
          "pie": [
           {
            "automargin": true,
            "type": "pie"
           }
          ],
          "scatter": [
           {
            "fillpattern": {
             "fillmode": "overlay",
             "size": 10,
             "solidity": 0.2
            },
            "type": "scatter"
           }
          ],
          "scatter3d": [
           {
            "line": {
             "colorbar": {
              "outlinewidth": 0,
              "ticks": ""
             }
            },
            "marker": {
             "colorbar": {
              "outlinewidth": 0,
              "ticks": ""
             }
            },
            "type": "scatter3d"
           }
          ],
          "scattercarpet": [
           {
            "marker": {
             "colorbar": {
              "outlinewidth": 0,
              "ticks": ""
             }
            },
            "type": "scattercarpet"
           }
          ],
          "scattergeo": [
           {
            "marker": {
             "colorbar": {
              "outlinewidth": 0,
              "ticks": ""
             }
            },
            "type": "scattergeo"
           }
          ],
          "scattergl": [
           {
            "marker": {
             "colorbar": {
              "outlinewidth": 0,
              "ticks": ""
             }
            },
            "type": "scattergl"
           }
          ],
          "scattermapbox": [
           {
            "marker": {
             "colorbar": {
              "outlinewidth": 0,
              "ticks": ""
             }
            },
            "type": "scattermapbox"
           }
          ],
          "scatterpolar": [
           {
            "marker": {
             "colorbar": {
              "outlinewidth": 0,
              "ticks": ""
             }
            },
            "type": "scatterpolar"
           }
          ],
          "scatterpolargl": [
           {
            "marker": {
             "colorbar": {
              "outlinewidth": 0,
              "ticks": ""
             }
            },
            "type": "scatterpolargl"
           }
          ],
          "scatterternary": [
           {
            "marker": {
             "colorbar": {
              "outlinewidth": 0,
              "ticks": ""
             }
            },
            "type": "scatterternary"
           }
          ],
          "surface": [
           {
            "colorbar": {
             "outlinewidth": 0,
             "ticks": ""
            },
            "colorscale": [
             [
              0,
              "#0d0887"
             ],
             [
              0.1111111111111111,
              "#46039f"
             ],
             [
              0.2222222222222222,
              "#7201a8"
             ],
             [
              0.3333333333333333,
              "#9c179e"
             ],
             [
              0.4444444444444444,
              "#bd3786"
             ],
             [
              0.5555555555555556,
              "#d8576b"
             ],
             [
              0.6666666666666666,
              "#ed7953"
             ],
             [
              0.7777777777777778,
              "#fb9f3a"
             ],
             [
              0.8888888888888888,
              "#fdca26"
             ],
             [
              1,
              "#f0f921"
             ]
            ],
            "type": "surface"
           }
          ],
          "table": [
           {
            "cells": {
             "fill": {
              "color": "#EBF0F8"
             },
             "line": {
              "color": "white"
             }
            },
            "header": {
             "fill": {
              "color": "#C8D4E3"
             },
             "line": {
              "color": "white"
             }
            },
            "type": "table"
           }
          ]
         },
         "layout": {
          "annotationdefaults": {
           "arrowcolor": "#2a3f5f",
           "arrowhead": 0,
           "arrowwidth": 1
          },
          "autotypenumbers": "strict",
          "coloraxis": {
           "colorbar": {
            "outlinewidth": 0,
            "ticks": ""
           }
          },
          "colorscale": {
           "diverging": [
            [
             0,
             "#8e0152"
            ],
            [
             0.1,
             "#c51b7d"
            ],
            [
             0.2,
             "#de77ae"
            ],
            [
             0.3,
             "#f1b6da"
            ],
            [
             0.4,
             "#fde0ef"
            ],
            [
             0.5,
             "#f7f7f7"
            ],
            [
             0.6,
             "#e6f5d0"
            ],
            [
             0.7,
             "#b8e186"
            ],
            [
             0.8,
             "#7fbc41"
            ],
            [
             0.9,
             "#4d9221"
            ],
            [
             1,
             "#276419"
            ]
           ],
           "sequential": [
            [
             0,
             "#0d0887"
            ],
            [
             0.1111111111111111,
             "#46039f"
            ],
            [
             0.2222222222222222,
             "#7201a8"
            ],
            [
             0.3333333333333333,
             "#9c179e"
            ],
            [
             0.4444444444444444,
             "#bd3786"
            ],
            [
             0.5555555555555556,
             "#d8576b"
            ],
            [
             0.6666666666666666,
             "#ed7953"
            ],
            [
             0.7777777777777778,
             "#fb9f3a"
            ],
            [
             0.8888888888888888,
             "#fdca26"
            ],
            [
             1,
             "#f0f921"
            ]
           ],
           "sequentialminus": [
            [
             0,
             "#0d0887"
            ],
            [
             0.1111111111111111,
             "#46039f"
            ],
            [
             0.2222222222222222,
             "#7201a8"
            ],
            [
             0.3333333333333333,
             "#9c179e"
            ],
            [
             0.4444444444444444,
             "#bd3786"
            ],
            [
             0.5555555555555556,
             "#d8576b"
            ],
            [
             0.6666666666666666,
             "#ed7953"
            ],
            [
             0.7777777777777778,
             "#fb9f3a"
            ],
            [
             0.8888888888888888,
             "#fdca26"
            ],
            [
             1,
             "#f0f921"
            ]
           ]
          },
          "colorway": [
           "#636efa",
           "#EF553B",
           "#00cc96",
           "#ab63fa",
           "#FFA15A",
           "#19d3f3",
           "#FF6692",
           "#B6E880",
           "#FF97FF",
           "#FECB52"
          ],
          "font": {
           "color": "#2a3f5f"
          },
          "geo": {
           "bgcolor": "white",
           "lakecolor": "white",
           "landcolor": "#E5ECF6",
           "showlakes": true,
           "showland": true,
           "subunitcolor": "white"
          },
          "hoverlabel": {
           "align": "left"
          },
          "hovermode": "closest",
          "mapbox": {
           "style": "light"
          },
          "paper_bgcolor": "white",
          "plot_bgcolor": "#E5ECF6",
          "polar": {
           "angularaxis": {
            "gridcolor": "white",
            "linecolor": "white",
            "ticks": ""
           },
           "bgcolor": "#E5ECF6",
           "radialaxis": {
            "gridcolor": "white",
            "linecolor": "white",
            "ticks": ""
           }
          },
          "scene": {
           "xaxis": {
            "backgroundcolor": "#E5ECF6",
            "gridcolor": "white",
            "gridwidth": 2,
            "linecolor": "white",
            "showbackground": true,
            "ticks": "",
            "zerolinecolor": "white"
           },
           "yaxis": {
            "backgroundcolor": "#E5ECF6",
            "gridcolor": "white",
            "gridwidth": 2,
            "linecolor": "white",
            "showbackground": true,
            "ticks": "",
            "zerolinecolor": "white"
           },
           "zaxis": {
            "backgroundcolor": "#E5ECF6",
            "gridcolor": "white",
            "gridwidth": 2,
            "linecolor": "white",
            "showbackground": true,
            "ticks": "",
            "zerolinecolor": "white"
           }
          },
          "shapedefaults": {
           "line": {
            "color": "#2a3f5f"
           }
          },
          "ternary": {
           "aaxis": {
            "gridcolor": "white",
            "linecolor": "white",
            "ticks": ""
           },
           "baxis": {
            "gridcolor": "white",
            "linecolor": "white",
            "ticks": ""
           },
           "bgcolor": "#E5ECF6",
           "caxis": {
            "gridcolor": "white",
            "linecolor": "white",
            "ticks": ""
           }
          },
          "title": {
           "x": 0.05
          },
          "xaxis": {
           "automargin": true,
           "gridcolor": "white",
           "linecolor": "white",
           "ticks": "",
           "title": {
            "standoff": 15
           },
           "zerolinecolor": "white",
           "zerolinewidth": 2
          },
          "yaxis": {
           "automargin": true,
           "gridcolor": "white",
           "linecolor": "white",
           "ticks": "",
           "title": {
            "standoff": 15
           },
           "zerolinecolor": "white",
           "zerolinewidth": 2
          }
         }
        },
        "title": {
         "text": "Distribuição de Raças Declaradas em Relação ao Ano"
        },
        "width": 1000,
        "xaxis": {
         "title": {
          "text": "Raça"
         }
        },
        "yaxis": {
         "showticklabels": false
        }
       }
      },
      "text/html": [
       "<div>                            <div id=\"efc4a7c5-6850-4687-9a7a-5487bcca6424\" class=\"plotly-graph-div\" style=\"height:700px; width:1000px;\"></div>            <script type=\"text/javascript\">                require([\"plotly\"], function(Plotly) {                    window.PLOTLYENV=window.PLOTLYENV || {};                                    if (document.getElementById(\"efc4a7c5-6850-4687-9a7a-5487bcca6424\")) {                    Plotly.newPlot(                        \"efc4a7c5-6850-4687-9a7a-5487bcca6424\",                        [{\"line\":{\"color\":\"white\"},\"mode\":\"lines\",\"x\":[\"Nao Declarado\",\"Branca\",\"Preta\",\"Parda\",\"Amarela\",\"Indigena\",\"Nao Possui a Informacao\"],\"y\":[10],\"type\":\"scatter\"},{\"fill\":\"tonexty\",\"name\":\"2013\",\"text\":[\"Num Candidatos: 82560\",\"Num Candidatos: 2023255\",\"Num Candidatos: 600209\",\"Num Candidatos: 2156946\",\"Num Candidatos: 113680\",\"Num Candidatos: 31284\",\"Num Candidatos: 0\"],\"x\":[\"Nao Declarado\",\"Branca\",\"Preta\",\"Parda\",\"Amarela\",\"Indigena\",\"Nao Possui a Informacao\"],\"y\":[10.438276340715067,11.338018383399492,10.678267977037905,11.4,10.45270414743809,10.41450384015177,10.4],\"type\":\"scatter\"},{\"line\":{\"color\":\"white\"},\"mode\":\"lines\",\"x\":[\"Nao Declarado\",\"Branca\",\"Preta\",\"Parda\",\"Amarela\",\"Indigena\",\"Nao Possui a Informacao\"],\"y\":[9],\"type\":\"scatter\"},{\"fill\":\"tonexty\",\"name\":\"2014\",\"text\":[\"Num Candidatos: 90667\",\"Num Candidatos: 2297237\",\"Num Candidatos: 735788\",\"Num Candidatos: 2658254\",\"Num Candidatos: 130120\",\"Num Candidatos: 35848\",\"Num Candidatos: 0\"],\"x\":[\"Nao Declarado\",\"Branca\",\"Preta\",\"Parda\",\"Amarela\",\"Indigena\",\"Nao Possui a Informacao\"],\"y\":[9.434107726349701,10.264190178967096,9.676793714972309,10.4,9.448949423192818,9.413485543518416,9.4],\"type\":\"scatter\"},{\"line\":{\"color\":\"white\"},\"mode\":\"lines\",\"x\":[\"Nao Declarado\",\"Branca\",\"Preta\",\"Parda\",\"Amarela\",\"Indigena\",\"Nao Possui a Informacao\"],\"y\":[8],\"type\":\"scatter\"},{\"fill\":\"tonexty\",\"name\":\"2015\",\"text\":[\"Num Candidatos: 86941\",\"Num Candidatos: 2103579\",\"Num Candidatos: 713220\",\"Num Candidatos: 2533490\",\"Num Candidatos: 125209\",\"Num Candidatos: 30388\",\"Num Candidatos: 12078\"],\"x\":[\"Nao Declarado\",\"Branca\",\"Preta\",\"Parda\",\"Amarela\",\"Indigena\",\"Nao Possui a Informacao\"],\"y\":[8.42969090335098,9.229495933231062,8.678075142023596,9.4,8.444868113580803,8.407261804100242,8.4],\"type\":\"scatter\"},{\"line\":{\"color\":\"white\"},\"mode\":\"lines\",\"x\":[\"Nao Declarado\",\"Branca\",\"Preta\",\"Parda\",\"Amarela\",\"Indigena\",\"Nao Possui a Informacao\"],\"y\":[7],\"type\":\"scatter\"},{\"fill\":\"tonexty\",\"name\":\"2016\",\"text\":[\"Num Candidatos: 104495\",\"Num Candidatos: 2104339\",\"Num Candidatos: 754414\",\"Num Candidatos: 2684885\",\"Num Candidatos: 136274\",\"Num Candidatos: 33723\",\"Num Candidatos: 134\"],\"x\":[\"Nao Declarado\",\"Branca\",\"Preta\",\"Parda\",\"Amarela\",\"Indigena\",\"Nao Possui a Informacao\"],\"y\":[7.438871761291829,8.183761697081033,7.680949704460488,8.4,7.450708613201001,7.412511029886943,7.4],\"type\":\"scatter\"},{\"line\":{\"color\":\"white\"},\"mode\":\"lines\",\"x\":[\"Nao Declarado\",\"Branca\",\"Preta\",\"Parda\",\"Amarela\",\"Indigena\",\"Nao Possui a Informacao\"],\"y\":[6],\"type\":\"scatter\"},{\"fill\":\"tonexty\",\"name\":\"2017\",\"text\":[\"Num Candidatos: 82509\",\"Num Candidatos: 1619075\",\"Num Candidatos: 557760\",\"Num Candidatos: 2039229\",\"Num Candidatos: 102304\",\"Num Candidatos: 25815\",\"Num Candidatos: 0\"],\"x\":[\"Nao Declarado\",\"Branca\",\"Preta\",\"Parda\",\"Amarela\",\"Indigena\",\"Nao Possui a Informacao\"],\"y\":[6.440460880067908,7.193964287483162,6.673515137338671,7.4,6.450167980153283,6.41265919619621,6.4],\"type\":\"scatter\"},{\"line\":{\"color\":\"white\"},\"mode\":\"lines\",\"x\":[\"Nao Declarado\",\"Branca\",\"Preta\",\"Parda\",\"Amarela\",\"Indigena\",\"Nao Possui a Informacao\"],\"y\":[5],\"type\":\"scatter\"},{\"fill\":\"tonexty\",\"name\":\"2018\",\"text\":[\"Num Candidatos: 77971\",\"Num Candidatos: 1440815\",\"Num Candidatos: 477383\",\"Num Candidatos: 1787696\",\"Num Candidatos: 87504\",\"Num Candidatos: 22360\",\"Num Candidatos: 0\"],\"x\":[\"Nao Declarado\",\"Branca\",\"Preta\",\"Parda\",\"Amarela\",\"Indigena\",\"Nao Possui a Informacao\"],\"y\":[5.443615357420949,6.2059619756379165,5.6670381317628955,6.4,5.448947919556793,5.4125077194332825,5.4],\"type\":\"scatter\"},{\"line\":{\"color\":\"white\"},\"mode\":\"lines\",\"x\":[\"Nao Declarado\",\"Branca\",\"Preta\",\"Parda\",\"Amarela\",\"Indigena\",\"Nao Possui a Informacao\"],\"y\":[4],\"type\":\"scatter\"},{\"fill\":\"tonexty\",\"name\":\"2019\",\"text\":[\"Num Candidatos: 73433\",\"Num Candidatos: 1374880\",\"Num Candidatos: 453212\",\"Num Candidatos: 1694111\",\"Num Candidatos: 84750\",\"Num Candidatos: 21523\",\"Num Candidatos: 0\"],\"x\":[\"Nao Declarado\",\"Branca\",\"Preta\",\"Parda\",\"Amarela\",\"Indigena\",\"Nao Possui a Informacao\"],\"y\":[4.443346038128553,5.211564295373798,4.6675220218746,5.4,4.45002623795017,4.412704598459015,4.4],\"type\":\"scatter\"},{\"line\":{\"color\":\"white\"},\"mode\":\"lines\",\"x\":[\"Nao Declarado\",\"Branca\",\"Preta\",\"Parda\",\"Amarela\",\"Indigena\",\"Nao Possui a Informacao\"],\"y\":[3],\"type\":\"scatter\"},{\"fill\":\"tonexty\",\"name\":\"2020\",\"text\":[\"Num Candidatos: 50000\",\"Num Candidatos: 984621\",\"Num Candidatos: 313315\",\"Num Candidatos: 1169331\",\"Num Candidatos: 57449\",\"Num Candidatos: 13965\",\"Num Candidatos: 0\"],\"x\":[\"Nao Declarado\",\"Branca\",\"Preta\",\"Parda\",\"Amarela\",\"Indigena\",\"Nao Possui a Informacao\"],\"y\":[3.4427594923935136,4.242037883199881,3.667943807185476,4.4,3.4491298015702996,3.4119427262255084,3.4],\"type\":\"scatter\"},{\"line\":{\"color\":\"white\"},\"mode\":\"lines\",\"x\":[\"Nao Declarado\",\"Branca\",\"Preta\",\"Parda\",\"Amarela\",\"Indigena\",\"Nao Possui a Informacao\"],\"y\":[2],\"type\":\"scatter\"},{\"fill\":\"tonexty\",\"name\":\"2021\",\"text\":[\"Num Candidatos: 43733\",\"Num Candidatos: 979456\",\"Num Candidatos: 246568\",\"Num Candidatos: 912861\",\"Num Candidatos: 44947\",\"Num Candidatos: 10540\",\"Num Candidatos: 2\"],\"x\":[\"Nao Declarado\",\"Branca\",\"Preta\",\"Parda\",\"Amarela\",\"Indigena\",\"Nao Possui a Informacao\"],\"y\":[2.4446483448941962,3.4,2.6517382133311007,3.3320080371308913,2.445887810964068,2.410759055555442,2.4],\"type\":\"scatter\"},{\"line\":{\"color\":\"white\"},\"mode\":\"lines\",\"x\":[\"Nao Declarado\",\"Branca\",\"Preta\",\"Parda\",\"Amarela\",\"Indigena\",\"Nao Possui a Informacao\"],\"y\":[1],\"type\":\"scatter\"},{\"fill\":\"tonexty\",\"name\":\"2022\",\"text\":[\"Num Candidatos: 40871\",\"Num Candidatos: 1026418\",\"Num Candidatos: 255863\",\"Num Candidatos: 966698\",\"Num Candidatos: 43782\",\"Num Candidatos: 11191\",\"Num Candidatos: 0\"],\"x\":[\"Nao Declarado\",\"Branca\",\"Preta\",\"Parda\",\"Amarela\",\"Indigena\",\"Nao Possui a Informacao\"],\"y\":[1.4398190600710432,2.4,1.6492775847656609,2.3418170764737174,1.4426551366012679,1.4109029654585168,1.4],\"type\":\"scatter\"}],                        {\"template\":{\"data\":{\"histogram2dcontour\":[{\"type\":\"histogram2dcontour\",\"colorbar\":{\"outlinewidth\":0,\"ticks\":\"\"},\"colorscale\":[[0.0,\"#0d0887\"],[0.1111111111111111,\"#46039f\"],[0.2222222222222222,\"#7201a8\"],[0.3333333333333333,\"#9c179e\"],[0.4444444444444444,\"#bd3786\"],[0.5555555555555556,\"#d8576b\"],[0.6666666666666666,\"#ed7953\"],[0.7777777777777778,\"#fb9f3a\"],[0.8888888888888888,\"#fdca26\"],[1.0,\"#f0f921\"]]}],\"choropleth\":[{\"type\":\"choropleth\",\"colorbar\":{\"outlinewidth\":0,\"ticks\":\"\"}}],\"histogram2d\":[{\"type\":\"histogram2d\",\"colorbar\":{\"outlinewidth\":0,\"ticks\":\"\"},\"colorscale\":[[0.0,\"#0d0887\"],[0.1111111111111111,\"#46039f\"],[0.2222222222222222,\"#7201a8\"],[0.3333333333333333,\"#9c179e\"],[0.4444444444444444,\"#bd3786\"],[0.5555555555555556,\"#d8576b\"],[0.6666666666666666,\"#ed7953\"],[0.7777777777777778,\"#fb9f3a\"],[0.8888888888888888,\"#fdca26\"],[1.0,\"#f0f921\"]]}],\"heatmap\":[{\"type\":\"heatmap\",\"colorbar\":{\"outlinewidth\":0,\"ticks\":\"\"},\"colorscale\":[[0.0,\"#0d0887\"],[0.1111111111111111,\"#46039f\"],[0.2222222222222222,\"#7201a8\"],[0.3333333333333333,\"#9c179e\"],[0.4444444444444444,\"#bd3786\"],[0.5555555555555556,\"#d8576b\"],[0.6666666666666666,\"#ed7953\"],[0.7777777777777778,\"#fb9f3a\"],[0.8888888888888888,\"#fdca26\"],[1.0,\"#f0f921\"]]}],\"heatmapgl\":[{\"type\":\"heatmapgl\",\"colorbar\":{\"outlinewidth\":0,\"ticks\":\"\"},\"colorscale\":[[0.0,\"#0d0887\"],[0.1111111111111111,\"#46039f\"],[0.2222222222222222,\"#7201a8\"],[0.3333333333333333,\"#9c179e\"],[0.4444444444444444,\"#bd3786\"],[0.5555555555555556,\"#d8576b\"],[0.6666666666666666,\"#ed7953\"],[0.7777777777777778,\"#fb9f3a\"],[0.8888888888888888,\"#fdca26\"],[1.0,\"#f0f921\"]]}],\"contourcarpet\":[{\"type\":\"contourcarpet\",\"colorbar\":{\"outlinewidth\":0,\"ticks\":\"\"}}],\"contour\":[{\"type\":\"contour\",\"colorbar\":{\"outlinewidth\":0,\"ticks\":\"\"},\"colorscale\":[[0.0,\"#0d0887\"],[0.1111111111111111,\"#46039f\"],[0.2222222222222222,\"#7201a8\"],[0.3333333333333333,\"#9c179e\"],[0.4444444444444444,\"#bd3786\"],[0.5555555555555556,\"#d8576b\"],[0.6666666666666666,\"#ed7953\"],[0.7777777777777778,\"#fb9f3a\"],[0.8888888888888888,\"#fdca26\"],[1.0,\"#f0f921\"]]}],\"surface\":[{\"type\":\"surface\",\"colorbar\":{\"outlinewidth\":0,\"ticks\":\"\"},\"colorscale\":[[0.0,\"#0d0887\"],[0.1111111111111111,\"#46039f\"],[0.2222222222222222,\"#7201a8\"],[0.3333333333333333,\"#9c179e\"],[0.4444444444444444,\"#bd3786\"],[0.5555555555555556,\"#d8576b\"],[0.6666666666666666,\"#ed7953\"],[0.7777777777777778,\"#fb9f3a\"],[0.8888888888888888,\"#fdca26\"],[1.0,\"#f0f921\"]]}],\"mesh3d\":[{\"type\":\"mesh3d\",\"colorbar\":{\"outlinewidth\":0,\"ticks\":\"\"}}],\"scatter\":[{\"fillpattern\":{\"fillmode\":\"overlay\",\"size\":10,\"solidity\":0.2},\"type\":\"scatter\"}],\"parcoords\":[{\"type\":\"parcoords\",\"line\":{\"colorbar\":{\"outlinewidth\":0,\"ticks\":\"\"}}}],\"scatterpolargl\":[{\"type\":\"scatterpolargl\",\"marker\":{\"colorbar\":{\"outlinewidth\":0,\"ticks\":\"\"}}}],\"bar\":[{\"error_x\":{\"color\":\"#2a3f5f\"},\"error_y\":{\"color\":\"#2a3f5f\"},\"marker\":{\"line\":{\"color\":\"#E5ECF6\",\"width\":0.5},\"pattern\":{\"fillmode\":\"overlay\",\"size\":10,\"solidity\":0.2}},\"type\":\"bar\"}],\"scattergeo\":[{\"type\":\"scattergeo\",\"marker\":{\"colorbar\":{\"outlinewidth\":0,\"ticks\":\"\"}}}],\"scatterpolar\":[{\"type\":\"scatterpolar\",\"marker\":{\"colorbar\":{\"outlinewidth\":0,\"ticks\":\"\"}}}],\"histogram\":[{\"marker\":{\"pattern\":{\"fillmode\":\"overlay\",\"size\":10,\"solidity\":0.2}},\"type\":\"histogram\"}],\"scattergl\":[{\"type\":\"scattergl\",\"marker\":{\"colorbar\":{\"outlinewidth\":0,\"ticks\":\"\"}}}],\"scatter3d\":[{\"type\":\"scatter3d\",\"line\":{\"colorbar\":{\"outlinewidth\":0,\"ticks\":\"\"}},\"marker\":{\"colorbar\":{\"outlinewidth\":0,\"ticks\":\"\"}}}],\"scattermapbox\":[{\"type\":\"scattermapbox\",\"marker\":{\"colorbar\":{\"outlinewidth\":0,\"ticks\":\"\"}}}],\"scatterternary\":[{\"type\":\"scatterternary\",\"marker\":{\"colorbar\":{\"outlinewidth\":0,\"ticks\":\"\"}}}],\"scattercarpet\":[{\"type\":\"scattercarpet\",\"marker\":{\"colorbar\":{\"outlinewidth\":0,\"ticks\":\"\"}}}],\"carpet\":[{\"aaxis\":{\"endlinecolor\":\"#2a3f5f\",\"gridcolor\":\"white\",\"linecolor\":\"white\",\"minorgridcolor\":\"white\",\"startlinecolor\":\"#2a3f5f\"},\"baxis\":{\"endlinecolor\":\"#2a3f5f\",\"gridcolor\":\"white\",\"linecolor\":\"white\",\"minorgridcolor\":\"white\",\"startlinecolor\":\"#2a3f5f\"},\"type\":\"carpet\"}],\"table\":[{\"cells\":{\"fill\":{\"color\":\"#EBF0F8\"},\"line\":{\"color\":\"white\"}},\"header\":{\"fill\":{\"color\":\"#C8D4E3\"},\"line\":{\"color\":\"white\"}},\"type\":\"table\"}],\"barpolar\":[{\"marker\":{\"line\":{\"color\":\"#E5ECF6\",\"width\":0.5},\"pattern\":{\"fillmode\":\"overlay\",\"size\":10,\"solidity\":0.2}},\"type\":\"barpolar\"}],\"pie\":[{\"automargin\":true,\"type\":\"pie\"}]},\"layout\":{\"autotypenumbers\":\"strict\",\"colorway\":[\"#636efa\",\"#EF553B\",\"#00cc96\",\"#ab63fa\",\"#FFA15A\",\"#19d3f3\",\"#FF6692\",\"#B6E880\",\"#FF97FF\",\"#FECB52\"],\"font\":{\"color\":\"#2a3f5f\"},\"hovermode\":\"closest\",\"hoverlabel\":{\"align\":\"left\"},\"paper_bgcolor\":\"white\",\"plot_bgcolor\":\"#E5ECF6\",\"polar\":{\"bgcolor\":\"#E5ECF6\",\"angularaxis\":{\"gridcolor\":\"white\",\"linecolor\":\"white\",\"ticks\":\"\"},\"radialaxis\":{\"gridcolor\":\"white\",\"linecolor\":\"white\",\"ticks\":\"\"}},\"ternary\":{\"bgcolor\":\"#E5ECF6\",\"aaxis\":{\"gridcolor\":\"white\",\"linecolor\":\"white\",\"ticks\":\"\"},\"baxis\":{\"gridcolor\":\"white\",\"linecolor\":\"white\",\"ticks\":\"\"},\"caxis\":{\"gridcolor\":\"white\",\"linecolor\":\"white\",\"ticks\":\"\"}},\"coloraxis\":{\"colorbar\":{\"outlinewidth\":0,\"ticks\":\"\"}},\"colorscale\":{\"sequential\":[[0.0,\"#0d0887\"],[0.1111111111111111,\"#46039f\"],[0.2222222222222222,\"#7201a8\"],[0.3333333333333333,\"#9c179e\"],[0.4444444444444444,\"#bd3786\"],[0.5555555555555556,\"#d8576b\"],[0.6666666666666666,\"#ed7953\"],[0.7777777777777778,\"#fb9f3a\"],[0.8888888888888888,\"#fdca26\"],[1.0,\"#f0f921\"]],\"sequentialminus\":[[0.0,\"#0d0887\"],[0.1111111111111111,\"#46039f\"],[0.2222222222222222,\"#7201a8\"],[0.3333333333333333,\"#9c179e\"],[0.4444444444444444,\"#bd3786\"],[0.5555555555555556,\"#d8576b\"],[0.6666666666666666,\"#ed7953\"],[0.7777777777777778,\"#fb9f3a\"],[0.8888888888888888,\"#fdca26\"],[1.0,\"#f0f921\"]],\"diverging\":[[0,\"#8e0152\"],[0.1,\"#c51b7d\"],[0.2,\"#de77ae\"],[0.3,\"#f1b6da\"],[0.4,\"#fde0ef\"],[0.5,\"#f7f7f7\"],[0.6,\"#e6f5d0\"],[0.7,\"#b8e186\"],[0.8,\"#7fbc41\"],[0.9,\"#4d9221\"],[1,\"#276419\"]]},\"xaxis\":{\"gridcolor\":\"white\",\"linecolor\":\"white\",\"ticks\":\"\",\"title\":{\"standoff\":15},\"zerolinecolor\":\"white\",\"automargin\":true,\"zerolinewidth\":2},\"yaxis\":{\"gridcolor\":\"white\",\"linecolor\":\"white\",\"ticks\":\"\",\"title\":{\"standoff\":15},\"zerolinecolor\":\"white\",\"automargin\":true,\"zerolinewidth\":2},\"scene\":{\"xaxis\":{\"backgroundcolor\":\"#E5ECF6\",\"gridcolor\":\"white\",\"linecolor\":\"white\",\"showbackground\":true,\"ticks\":\"\",\"zerolinecolor\":\"white\",\"gridwidth\":2},\"yaxis\":{\"backgroundcolor\":\"#E5ECF6\",\"gridcolor\":\"white\",\"linecolor\":\"white\",\"showbackground\":true,\"ticks\":\"\",\"zerolinecolor\":\"white\",\"gridwidth\":2},\"zaxis\":{\"backgroundcolor\":\"#E5ECF6\",\"gridcolor\":\"white\",\"linecolor\":\"white\",\"showbackground\":true,\"ticks\":\"\",\"zerolinecolor\":\"white\",\"gridwidth\":2}},\"shapedefaults\":{\"line\":{\"color\":\"#2a3f5f\"}},\"annotationdefaults\":{\"arrowcolor\":\"#2a3f5f\",\"arrowhead\":0,\"arrowwidth\":1},\"geo\":{\"bgcolor\":\"white\",\"landcolor\":\"#E5ECF6\",\"subunitcolor\":\"white\",\"showland\":true,\"showlakes\":true,\"lakecolor\":\"white\"},\"title\":{\"x\":0.05},\"mapbox\":{\"style\":\"light\"}}},\"annotations\":[{\"showarrow\":false,\"text\":\"2013\",\"x\":-0.2,\"y\":10,\"yshift\":7},{\"showarrow\":false,\"text\":\"2014\",\"x\":-0.2,\"y\":9,\"yshift\":7},{\"showarrow\":false,\"text\":\"2015\",\"x\":-0.2,\"y\":8,\"yshift\":7},{\"showarrow\":false,\"text\":\"2016\",\"x\":-0.2,\"y\":7,\"yshift\":7},{\"showarrow\":false,\"text\":\"2017\",\"x\":-0.2,\"y\":6,\"yshift\":7},{\"showarrow\":false,\"text\":\"2018\",\"x\":-0.2,\"y\":5,\"yshift\":7},{\"showarrow\":false,\"text\":\"2019\",\"x\":-0.2,\"y\":4,\"yshift\":7},{\"showarrow\":false,\"text\":\"2020\",\"x\":-0.2,\"y\":3,\"yshift\":7},{\"showarrow\":false,\"text\":\"2021\",\"x\":-0.2,\"y\":2,\"yshift\":7},{\"showarrow\":false,\"text\":\"2022\",\"x\":-0.2,\"y\":1,\"yshift\":7}],\"yaxis\":{\"showticklabels\":false},\"title\":{\"text\":\"Distribui\\u00e7\\u00e3o de Ra\\u00e7as Declaradas em Rela\\u00e7\\u00e3o ao Ano\"},\"showlegend\":false,\"xaxis\":{\"title\":{\"text\":\"Ra\\u00e7a\"}},\"width\":1000,\"height\":700},                        {\"responsive\": true}                    ).then(function(){\n",
       "                            \n",
       "var gd = document.getElementById('efc4a7c5-6850-4687-9a7a-5487bcca6424');\n",
       "var x = new MutationObserver(function (mutations, observer) {{\n",
       "        var display = window.getComputedStyle(gd).display;\n",
       "        if (!display || display === 'none') {{\n",
       "            console.log([gd, 'removed!']);\n",
       "            Plotly.purge(gd);\n",
       "            observer.disconnect();\n",
       "        }}\n",
       "}});\n",
       "\n",
       "// Listen for the removal of the full notebook cells\n",
       "var notebookContainer = gd.closest('#notebook-container');\n",
       "if (notebookContainer) {{\n",
       "    x.observe(notebookContainer, {childList: true});\n",
       "}}\n",
       "\n",
       "// Listen for the clearing of the current output cell\n",
       "var outputEl = gd.closest('.output');\n",
       "if (outputEl) {{\n",
       "    x.observe(outputEl, {childList: true});\n",
       "}}\n",
       "\n",
       "                        })                };                });            </script>        </div>"
      ]
     },
     "metadata": {},
     "output_type": "display_data"
    }
   ],
   "source": [
    "fig = go.Figure()\n",
    "for index, year in enumerate(year_list):\n",
    "    fig.add_trace(go.Scatter(\n",
    "                            x=racas,\n",
    "                            y=np.full(1, len(year_list)-index),\n",
    "                            mode='lines',\n",
    "                            line_color='white'))\n",
    "    \n",
    "    fig.add_trace(go.Scatter(\n",
    "                            x=array_dict[f'x_{year}'],\n",
    "                            y=array_dict[f'y_{year}_norm'] + (len(year_list)-index) + 0.4,\n",
    "                            fill='tonexty',\n",
    "                            text=array_dict[f'y_{year}'],\n",
    "                            name=f'{year}'))\n",
    "    \n",
    "    # plotly.graph_objects' way of adding text to a figure\n",
    "    fig.add_annotation(\n",
    "                        x=-0.2,\n",
    "                        y=len(year_list)-index,\n",
    "                        text=f'{year}',\n",
    "                        showarrow=False,\n",
    "                        yshift=7)\n",
    "\n",
    "# here you can modify the figure and the legend titles\n",
    "fig.update_layout(\n",
    "                title='Distribuição de Raças Declaradas em Relação ao Ano',\n",
    "                showlegend=False,\n",
    "                xaxis=dict(title='Raça'),\n",
    "                yaxis=dict(showticklabels=False),\n",
    "                width=1000,\n",
    "                height=700\n",
    "                )\n",
    "\n",
    "fig.show()"
   ]
  },
  {
   "cell_type": "markdown",
   "id": "d02a75a6-513e-4b4c-8a02-3ed013c7633d",
   "metadata": {},
   "source": [
    "## TP_FAIXA_ETARIA"
   ]
  },
  {
   "cell_type": "code",
   "execution_count": 6,
   "id": "f2676856-3e19-474e-9608-449ea21a36ad",
   "metadata": {},
   "outputs": [],
   "source": [
    "year_list = [2013,2014,2015,2016,2017,2018,2019,2020,2021,2022]\n",
    "faixas_etarias = ['<17', '17', '18', '19', '20', '21', '22', '23', '24', '25', '26-30',\n",
    "                  '31-35', '36-40', '41-45', '46-50', '51-55', '56-60', '61-65', '66-70', '>70']"
   ]
  },
  {
   "cell_type": "code",
   "execution_count": 7,
   "id": "06163320-0e9f-48ba-9f27-0e7c77522daf",
   "metadata": {},
   "outputs": [],
   "source": [
    "array_dict = {}\n",
    "for year in year_list:\n",
    "    sub = df[df.ANO == year]\n",
    "    count = sub['TP_FAIXA_ETARIA'].value_counts()\n",
    "    \n",
    "    faixa_count = [count[i] for i in faixas_etarias]\n",
    "    \n",
    "    array_dict[f'x_{year}']      = np.array(faixas_etarias)\n",
    "    array_dict[f'y_{year}']      = np.array(faixa_count)\n",
    "    array_dict[f'y_{year}_norm'] = (array_dict[f'y_{year}'] - array_dict[f'y_{year}'].min()) \\\n",
    "                            / (array_dict[f'y_{year}'].max() - array_dict[f'y_{year}'].min())\n",
    "    array_dict[f'y_{year}']      = [\"Num Candidatos: \"+str(i) for i in faixa_count]"
   ]
  },
  {
   "cell_type": "code",
   "execution_count": 8,
   "id": "e5466071-7c1f-4270-b51c-176927b3cf52",
   "metadata": {},
   "outputs": [
    {
     "data": {
      "application/vnd.plotly.v1+json": {
       "config": {
        "plotlyServerURL": "https://plot.ly"
       },
       "data": [
        {
         "line": {
          "color": "white"
         },
         "mode": "lines",
         "type": "scatter",
         "x": [
          "<17",
          "17",
          "18",
          "19",
          "20",
          "21",
          "22",
          "23",
          "24",
          "25",
          "26-30",
          "31-35",
          "36-40",
          "41-45",
          "46-50",
          "51-55",
          "56-60",
          "61-65",
          "66-70",
          ">70"
         ],
         "y": [
          10
         ]
        },
        {
         "fill": "tonexty",
         "name": "2013",
         "text": [
          "Num Candidatos: 541291",
          "Num Candidatos: 886075",
          "Num Candidatos: 758880",
          "Num Candidatos: 507031",
          "Num Candidatos: 359962",
          "Num Candidatos: 265208",
          "Num Candidatos: 209527",
          "Num Candidatos: 168275",
          "Num Candidatos: 147725",
          "Num Candidatos: 127394",
          "Num Candidatos: 427384",
          "Num Candidatos: 246721",
          "Num Candidatos: 151571",
          "Num Candidatos: 98830",
          "Num Candidatos: 62633",
          "Num Candidatos: 30982",
          "Num Candidatos: 12976",
          "Num Candidatos: 3925",
          "Num Candidatos: 1134",
          "Num Candidatos: 410"
         ],
         "type": "scatter",
         "x": [
          "<17",
          "17",
          "18",
          "19",
          "20",
          "21",
          "22",
          "23",
          "24",
          "25",
          "26-30",
          "31-35",
          "36-40",
          "41-45",
          "46-50",
          "51-55",
          "56-60",
          "61-65",
          "66-70",
          ">70"
         ],
         "y": [
          11.010706079612495,
          11.4,
          11.25638475044176,
          10.97202328194069,
          10.805968396628522,
          10.698982120779302,
          10.63611297725438,
          10.58953554673607,
          10.566332642703506,
          10.54337701049494,
          10.882094245566892,
          10.678108539910689,
          10.570675142407119,
          10.51112553843722,
          10.470255683582394,
          10.4345186949919,
          10.41418820886001,
          10.403968769229902,
          10.400817464842802,
          10.4
         ]
        },
        {
         "line": {
          "color": "white"
         },
         "mode": "lines",
         "type": "scatter",
         "x": [
          "<17",
          "17",
          "18",
          "19",
          "20",
          "21",
          "22",
          "23",
          "24",
          "25",
          "26-30",
          "31-35",
          "36-40",
          "41-45",
          "46-50",
          "51-55",
          "56-60",
          "61-65",
          "66-70",
          ">70"
         ],
         "y": [
          9
         ]
        },
        {
         "fill": "tonexty",
         "name": "2014",
         "text": [
          "Num Candidatos: 695380",
          "Num Candidatos: 994058",
          "Num Candidatos: 851207",
          "Num Candidatos: 585031",
          "Num Candidatos: 426389",
          "Num Candidatos: 323184",
          "Num Candidatos: 250560",
          "Num Candidatos: 206396",
          "Num Candidatos: 169142",
          "Num Candidatos: 150708",
          "Num Candidatos: 517848",
          "Num Candidatos: 310640",
          "Num Candidatos: 194065",
          "Num Candidatos: 125985",
          "Num Candidatos: 80803",
          "Num Candidatos: 41622",
          "Num Candidatos: 17414",
          "Num Candidatos: 5428",
          "Num Candidatos: 1524",
          "Num Candidatos: 530"
         ],
         "type": "scatter",
         "x": [
          "<17",
          "17",
          "18",
          "19",
          "20",
          "21",
          "22",
          "23",
          "24",
          "25",
          "26-30",
          "31-35",
          "36-40",
          "41-45",
          "46-50",
          "51-55",
          "56-60",
          "61-65",
          "66-70",
          ">70"
         ],
         "y": [
          10.099376363826687,
          10.4,
          10.256218445781096,
          9.98830853282444,
          9.82863311351064,
          9.724755819664871,
          9.651658735335088,
          9.607207043988696,
          9.569710365485422,
          9.551156283466597,
          9.920687892037266,
          9.712130106046333,
          9.594795717886159,
          9.526272233897787,
          9.480795911136878,
          9.441359679847977,
          9.416993985071382,
          9.404929906353923,
          9.401000475074683,
          9.4
         ]
        },
        {
         "line": {
          "color": "white"
         },
         "mode": "lines",
         "type": "scatter",
         "x": [
          "<17",
          "17",
          "18",
          "19",
          "20",
          "21",
          "22",
          "23",
          "24",
          "25",
          "26-30",
          "31-35",
          "36-40",
          "41-45",
          "46-50",
          "51-55",
          "56-60",
          "61-65",
          "66-70",
          ">70"
         ],
         "y": [
          8
         ]
        },
        {
         "fill": "tonexty",
         "name": "2015",
         "text": [
          "Num Candidatos: 606790",
          "Num Candidatos: 935504",
          "Num Candidatos: 859238",
          "Num Candidatos: 585022",
          "Num Candidatos: 426071",
          "Num Candidatos: 318457",
          "Num Candidatos: 248681",
          "Num Candidatos: 197293",
          "Num Candidatos: 164272",
          "Num Candidatos: 134219",
          "Num Candidatos: 466651",
          "Num Candidatos: 265709",
          "Num Candidatos: 166071",
          "Num Candidatos: 106331",
          "Num Candidatos: 66517",
          "Num Candidatos: 35912",
          "Num Candidatos: 15272",
          "Num Candidatos: 4927",
          "Num Candidatos: 1438",
          "Num Candidatos: 530"
         ],
         "type": "scatter",
         "x": [
          "<17",
          "17",
          "18",
          "19",
          "20",
          "21",
          "22",
          "23",
          "24",
          "25",
          "26-30",
          "31-35",
          "36-40",
          "41-45",
          "46-50",
          "51-55",
          "56-60",
          "61-65",
          "66-70",
          ">70"
         ],
         "y": [
          9.048424448166474,
          9.4,
          9.318429817299732,
          9.025142517332034,
          8.85513672037939,
          8.740038332616736,
          8.665409519409096,
          8.610447563247748,
          8.575130003615074,
          8.542986863805838,
          8.898538996806328,
          8.683621790552465,
          8.577054121291074,
          8.513159296408242,
          8.470576294100157,
          8.437842763542088,
          8.415767283368307,
          8.404702804569967,
          8.400971149999894,
          8.4
         ]
        },
        {
         "line": {
          "color": "white"
         },
         "mode": "lines",
         "type": "scatter",
         "x": [
          "<17",
          "17",
          "18",
          "19",
          "20",
          "21",
          "22",
          "23",
          "24",
          "25",
          "26-30",
          "31-35",
          "36-40",
          "41-45",
          "46-50",
          "51-55",
          "56-60",
          "61-65",
          "66-70",
          ">70"
         ],
         "y": [
          7
         ]
        },
        {
         "fill": "tonexty",
         "name": "2016",
         "text": [
          "Num Candidatos: 646891",
          "Num Candidatos: 1021578",
          "Num Candidatos: 881146",
          "Num Candidatos: 621305",
          "Num Candidatos: 446447",
          "Num Candidatos: 335169",
          "Num Candidatos: 259434",
          "Num Candidatos: 206914",
          "Num Candidatos: 164965",
          "Num Candidatos: 137818",
          "Num Candidatos: 451327",
          "Num Candidatos: 257744",
          "Num Candidatos: 163670",
          "Num Candidatos: 102614",
          "Num Candidatos: 63874",
          "Num Candidatos: 35083",
          "Num Candidatos: 15031",
          "Num Candidatos: 5189",
          "Num Candidatos: 1547",
          "Num Candidatos: 518"
         ],
         "type": "scatter",
         "x": [
          "<17",
          "17",
          "18",
          "19",
          "20",
          "21",
          "22",
          "23",
          "24",
          "25",
          "26-30",
          "31-35",
          "36-40",
          "41-45",
          "46-50",
          "51-55",
          "56-60",
          "61-65",
          "66-70",
          ">70"
         ],
         "y": [
          8.033041153311265,
          8.4,
          8.262464497678883,
          8.007982880535913,
          7.8367314359587095,
          7.727748614185259,
          7.653575695845494,
          7.602138953636417,
          7.5610551779523245,
          7.534468101776586,
          7.841510782911876,
          7.651920553150648,
          7.559786888135859,
          7.499990206256244,
          7.462049242943608,
          7.433852075294302,
          7.414213660313792,
          7.404574657708656,
          7.401007776232543,
          7.4
         ]
        },
        {
         "line": {
          "color": "white"
         },
         "mode": "lines",
         "type": "scatter",
         "x": [
          "<17",
          "17",
          "18",
          "19",
          "20",
          "21",
          "22",
          "23",
          "24",
          "25",
          "26-30",
          "31-35",
          "36-40",
          "41-45",
          "46-50",
          "51-55",
          "56-60",
          "61-65",
          "66-70",
          ">70"
         ],
         "y": [
          6
         ]
        },
        {
         "fill": "tonexty",
         "name": "2017",
         "text": [
          "Num Candidatos: 347275",
          "Num Candidatos: 824831",
          "Num Candidatos: 768328",
          "Num Candidatos: 487343",
          "Num Candidatos: 354929",
          "Num Candidatos: 257013",
          "Num Candidatos: 198898",
          "Num Candidatos: 155499",
          "Num Candidatos: 126155",
          "Num Candidatos: 101826",
          "Num Candidatos: 332875",
          "Num Candidatos: 191364",
          "Num Candidatos: 121499",
          "Num Candidatos: 72861",
          "Num Candidatos: 44753",
          "Num Candidatos: 24750",
          "Num Candidatos: 10945",
          "Num Candidatos: 3902",
          "Num Candidatos: 1206",
          "Num Candidatos: 440"
         ],
         "type": "scatter",
         "x": [
          "<17",
          "17",
          "18",
          "19",
          "20",
          "21",
          "22",
          "23",
          "24",
          "25",
          "26-30",
          "31-35",
          "36-40",
          "41-45",
          "46-50",
          "51-55",
          "56-60",
          "61-65",
          "66-70",
          ">70"
         ],
         "y": [
          6.8207166259699585,
          7.4,
          7.331460920849452,
          6.990621440554301,
          6.830001055324476,
          6.711227318105123,
          6.640732856132588,
          6.58808914701883,
          6.552494386765503,
          6.522982904956508,
          6.80324918636909,
          6.631593988774744,
          6.546846581294556,
          6.487847878009343,
          6.453752406321758,
          6.429488434492856,
          6.412742739792162,
          6.4041994636040425,
          6.400929170745435,
          6.4
         ]
        },
        {
         "line": {
          "color": "white"
         },
         "mode": "lines",
         "type": "scatter",
         "x": [
          "<17",
          "17",
          "18",
          "19",
          "20",
          "21",
          "22",
          "23",
          "24",
          "25",
          "26-30",
          "31-35",
          "36-40",
          "41-45",
          "46-50",
          "51-55",
          "56-60",
          "61-65",
          "66-70",
          ">70"
         ],
         "y": [
          5
         ]
        },
        {
         "fill": "tonexty",
         "name": "2018",
         "text": [
          "Num Candidatos: 341549",
          "Num Candidatos: 753356",
          "Num Candidatos: 741154",
          "Num Candidatos: 451577",
          "Num Candidatos: 292443",
          "Num Candidatos: 212798",
          "Num Candidatos: 159073",
          "Num Candidatos: 125397",
          "Num Candidatos: 99234",
          "Num Candidatos: 80521",
          "Num Candidatos: 253363",
          "Num Candidatos: 147387",
          "Num Candidatos: 100644",
          "Num Candidatos: 60256",
          "Num Candidatos: 37754",
          "Num Candidatos: 21697",
          "Num Candidatos: 10060",
          "Num Candidatos: 3756",
          "Num Candidatos: 1264",
          "Num Candidatos: 446"
         ],
         "type": "scatter",
         "x": [
          "<17",
          "17",
          "18",
          "19",
          "20",
          "21",
          "22",
          "23",
          "24",
          "25",
          "26-30",
          "31-35",
          "36-40",
          "41-45",
          "46-50",
          "51-55",
          "56-60",
          "61-65",
          "66-70",
          ">70"
         ],
         "y": [
          5.853046180818425,
          6.4,
          6.383793547701585,
          5.999183169303104,
          5.787824573986267,
          5.682041678288242,
          5.6106852080593965,
          5.565957418549362,
          5.531208245341409,
          5.506354013095855,
          5.735919299783507,
          5.595164096638377,
          5.533080979134293,
          5.479438445498134,
          5.449551739251704,
          5.428225153072745,
          5.412769122471477,
          5.404396275783294,
          5.401086451235872,
          5.4
         ]
        },
        {
         "line": {
          "color": "white"
         },
         "mode": "lines",
         "type": "scatter",
         "x": [
          "<17",
          "17",
          "18",
          "19",
          "20",
          "21",
          "22",
          "23",
          "24",
          "25",
          "26-30",
          "31-35",
          "36-40",
          "41-45",
          "46-50",
          "51-55",
          "56-60",
          "61-65",
          "66-70",
          ">70"
         ],
         "y": [
          4
         ]
        },
        {
         "fill": "tonexty",
         "name": "2019",
         "text": [
          "Num Candidatos: 351942",
          "Num Candidatos: 744684",
          "Num Candidatos: 709745",
          "Num Candidatos: 430184",
          "Num Candidatos: 285413",
          "Num Candidatos: 191301",
          "Num Candidatos: 147225",
          "Num Candidatos: 114240",
          "Num Candidatos: 92096",
          "Num Candidatos: 73272",
          "Num Candidatos: 223415",
          "Num Candidatos: 127952",
          "Num Candidatos: 88481",
          "Num Candidatos: 54078",
          "Num Candidatos: 33837",
          "Num Candidatos: 19360",
          "Num Candidatos: 9387",
          "Num Candidatos: 3591",
          "Num Candidatos: 1274",
          "Num Candidatos: 432"
         ],
         "type": "scatter",
         "x": [
          "<17",
          "17",
          "18",
          "19",
          "20",
          "21",
          "22",
          "23",
          "24",
          "25",
          "26-30",
          "31-35",
          "36-40",
          "41-45",
          "46-50",
          "51-55",
          "56-60",
          "61-65",
          "66-70",
          ">70"
         ],
         "y": [
          4.8722997049386505,
          5.4,
          5.353054879261326,
          4.977428075436815,
          4.7829092834147575,
          4.6564574902049305,
          4.597235613743733,
          4.552915947824125,
          4.52316258471593,
          4.497870076264491,
          4.6996068535926,
          4.571339815008895,
          4.518305358937565,
          4.472080424372391,
          4.444883990906306,
          4.425432246067192,
          4.412032214894955,
          4.404244530078522,
          4.401131337235238,
          4.4
         ]
        },
        {
         "line": {
          "color": "white"
         },
         "mode": "lines",
         "type": "scatter",
         "x": [
          "<17",
          "17",
          "18",
          "19",
          "20",
          "21",
          "22",
          "23",
          "24",
          "25",
          "26-30",
          "31-35",
          "36-40",
          "41-45",
          "46-50",
          "51-55",
          "56-60",
          "61-65",
          "66-70",
          ">70"
         ],
         "y": [
          3
         ]
        },
        {
         "fill": "tonexty",
         "name": "2020",
         "text": [
          "Num Candidatos: 219569",
          "Num Candidatos: 518119",
          "Num Candidatos: 510044",
          "Num Candidatos: 297386",
          "Num Candidatos: 197070",
          "Num Candidatos: 136503",
          "Num Candidatos: 97472",
          "Num Candidatos: 79245",
          "Num Candidatos: 63744",
          "Num Candidatos: 52292",
          "Num Candidatos: 160080",
          "Num Candidatos: 93716",
          "Num Candidatos: 66661",
          "Num Candidatos: 43121",
          "Num Candidatos: 27435",
          "Num Candidatos: 15318",
          "Num Candidatos: 7155",
          "Num Candidatos: 2637",
          "Num Candidatos: 833",
          "Num Candidatos: 281"
         ],
         "type": "scatter",
         "x": [
          "<17",
          "17",
          "18",
          "19",
          "20",
          "21",
          "22",
          "23",
          "24",
          "25",
          "26-30",
          "31-35",
          "36-40",
          "41-45",
          "46-50",
          "51-55",
          "56-60",
          "61-65",
          "66-70",
          ">70"
         ],
         "y": [
          3.8234683433815206,
          4.4,
          4.384406320123282,
          3.97374120864054,
          3.7800203924779563,
          3.663059103426168,
          3.5876861103279403,
          3.5524878436885667,
          3.522553771642869,
          3.5004387472530016,
          3.708588786454451,
          3.580432876691166,
          3.5281868074571583,
          3.4827285753459574,
          3.452437248714849,
          3.4290380389233697,
          3.413274421730348,
          3.4045496854228543,
          3.4010659704386312,
          3.4
         ]
        },
        {
         "line": {
          "color": "white"
         },
         "mode": "lines",
         "type": "scatter",
         "x": [
          "<17",
          "17",
          "18",
          "19",
          "20",
          "21",
          "22",
          "23",
          "24",
          "25",
          "26-30",
          "31-35",
          "36-40",
          "41-45",
          "46-50",
          "51-55",
          "56-60",
          "61-65",
          "66-70",
          ">70"
         ],
         "y": [
          2
         ]
        },
        {
         "fill": "tonexty",
         "name": "2021",
         "text": [
          "Num Candidatos: 232839",
          "Num Candidatos: 516508",
          "Num Candidatos: 524438",
          "Num Candidatos: 259966",
          "Num Candidatos: 151394",
          "Num Candidatos: 99476",
          "Num Candidatos: 69875",
          "Num Candidatos: 50704",
          "Num Candidatos: 40979",
          "Num Candidatos: 32499",
          "Num Candidatos: 98780",
          "Num Candidatos: 55879",
          "Num Candidatos: 40716",
          "Num Candidatos: 27010",
          "Num Candidatos: 17519",
          "Num Candidatos: 10581",
          "Num Candidatos: 5674",
          "Num Candidatos: 2216",
          "Num Candidatos: 744",
          "Num Candidatos: 310"
         ],
         "type": "scatter",
         "x": [
          "<17",
          "17",
          "18",
          "19",
          "20",
          "21",
          "22",
          "23",
          "24",
          "25",
          "26-30",
          "31-35",
          "36-40",
          "41-45",
          "46-50",
          "51-55",
          "56-60",
          "61-65",
          "66-70",
          ">70"
         ],
         "y": [
          2.8436492612491606,
          3.3848701080652055,
          3.4,
          2.8954057024238353,
          2.6882578301483604,
          2.5892018743513034,
          2.5327252121619144,
          2.4961482691250994,
          2.4775936412479393,
          2.4614143873252337,
          2.587873954453874,
          2.506021811465901,
          2.477091855424629,
          2.450941754685878,
          2.4328335826363023,
          2.4195963581415225,
          2.4102341412784662,
          2.4036365162708346,
          2.4008280420050063,
          2.4
         ]
        },
        {
         "line": {
          "color": "white"
         },
         "mode": "lines",
         "type": "scatter",
         "x": [
          "<17",
          "17",
          "18",
          "19",
          "20",
          "21",
          "22",
          "23",
          "24",
          "25",
          "26-30",
          "31-35",
          "36-40",
          "41-45",
          "46-50",
          "51-55",
          "56-60",
          "61-65",
          "66-70",
          ">70"
         ],
         "y": [
          1
         ]
        },
        {
         "fill": "tonexty",
         "name": "2022",
         "text": [
          "Num Candidatos: 247749",
          "Num Candidatos: 576153",
          "Num Candidatos: 593355",
          "Num Candidatos: 269293",
          "Num Candidatos: 151508",
          "Num Candidatos: 95792",
          "Num Candidatos: 67515",
          "Num Candidatos: 49832",
          "Num Candidatos: 36867",
          "Num Candidatos: 30176",
          "Num Candidatos: 88159",
          "Num Candidatos: 47083",
          "Num Candidatos: 34339",
          "Num Candidatos: 23948",
          "Num Candidatos: 15339",
          "Num Candidatos: 9309",
          "Num Candidatos: 5149",
          "Num Candidatos: 2090",
          "Num Candidatos: 852",
          "Num Candidatos: 315"
         ],
         "type": "scatter",
         "x": [
          "<17",
          "17",
          "18",
          "19",
          "20",
          "21",
          "22",
          "23",
          "24",
          "25",
          "26-30",
          "31-35",
          "36-40",
          "41-45",
          "46-50",
          "51-55",
          "56-60",
          "61-65",
          "66-70",
          ">70"
         ],
         "y": [
          1.8172298664508295,
          2.370993524888709,
          2.4,
          1.8535579387562389,
          1.654945703493862,
          1.560995885606367,
          1.5133144475920681,
          1.4834968973425062,
          1.4616349656009713,
          1.4503524214218264,
          1.5481249156886552,
          1.4788614595980034,
          1.4573721840010792,
          1.4398506002967761,
          1.425333872925941,
          1.4151659247268311,
          1.4081512208282745,
          1.4029930527451775,
          1.4009055038445974,
          1.4
         ]
        }
       ],
       "layout": {
        "annotations": [
         {
          "showarrow": false,
          "text": "2013",
          "x": -0.6,
          "y": 10,
          "yshift": 7
         },
         {
          "showarrow": false,
          "text": "2014",
          "x": -0.6,
          "y": 9,
          "yshift": 7
         },
         {
          "showarrow": false,
          "text": "2015",
          "x": -0.6,
          "y": 8,
          "yshift": 7
         },
         {
          "showarrow": false,
          "text": "2016",
          "x": -0.6,
          "y": 7,
          "yshift": 7
         },
         {
          "showarrow": false,
          "text": "2017",
          "x": -0.6,
          "y": 6,
          "yshift": 7
         },
         {
          "showarrow": false,
          "text": "2018",
          "x": -0.6,
          "y": 5,
          "yshift": 7
         },
         {
          "showarrow": false,
          "text": "2019",
          "x": -0.6,
          "y": 4,
          "yshift": 7
         },
         {
          "showarrow": false,
          "text": "2020",
          "x": -0.6,
          "y": 3,
          "yshift": 7
         },
         {
          "showarrow": false,
          "text": "2021",
          "x": -0.6,
          "y": 2,
          "yshift": 7
         },
         {
          "showarrow": false,
          "text": "2022",
          "x": -0.6,
          "y": 1,
          "yshift": 7
         }
        ],
        "height": 600,
        "showlegend": false,
        "template": {
         "data": {
          "bar": [
           {
            "error_x": {
             "color": "#2a3f5f"
            },
            "error_y": {
             "color": "#2a3f5f"
            },
            "marker": {
             "line": {
              "color": "#E5ECF6",
              "width": 0.5
             },
             "pattern": {
              "fillmode": "overlay",
              "size": 10,
              "solidity": 0.2
             }
            },
            "type": "bar"
           }
          ],
          "barpolar": [
           {
            "marker": {
             "line": {
              "color": "#E5ECF6",
              "width": 0.5
             },
             "pattern": {
              "fillmode": "overlay",
              "size": 10,
              "solidity": 0.2
             }
            },
            "type": "barpolar"
           }
          ],
          "carpet": [
           {
            "aaxis": {
             "endlinecolor": "#2a3f5f",
             "gridcolor": "white",
             "linecolor": "white",
             "minorgridcolor": "white",
             "startlinecolor": "#2a3f5f"
            },
            "baxis": {
             "endlinecolor": "#2a3f5f",
             "gridcolor": "white",
             "linecolor": "white",
             "minorgridcolor": "white",
             "startlinecolor": "#2a3f5f"
            },
            "type": "carpet"
           }
          ],
          "choropleth": [
           {
            "colorbar": {
             "outlinewidth": 0,
             "ticks": ""
            },
            "type": "choropleth"
           }
          ],
          "contour": [
           {
            "colorbar": {
             "outlinewidth": 0,
             "ticks": ""
            },
            "colorscale": [
             [
              0,
              "#0d0887"
             ],
             [
              0.1111111111111111,
              "#46039f"
             ],
             [
              0.2222222222222222,
              "#7201a8"
             ],
             [
              0.3333333333333333,
              "#9c179e"
             ],
             [
              0.4444444444444444,
              "#bd3786"
             ],
             [
              0.5555555555555556,
              "#d8576b"
             ],
             [
              0.6666666666666666,
              "#ed7953"
             ],
             [
              0.7777777777777778,
              "#fb9f3a"
             ],
             [
              0.8888888888888888,
              "#fdca26"
             ],
             [
              1,
              "#f0f921"
             ]
            ],
            "type": "contour"
           }
          ],
          "contourcarpet": [
           {
            "colorbar": {
             "outlinewidth": 0,
             "ticks": ""
            },
            "type": "contourcarpet"
           }
          ],
          "heatmap": [
           {
            "colorbar": {
             "outlinewidth": 0,
             "ticks": ""
            },
            "colorscale": [
             [
              0,
              "#0d0887"
             ],
             [
              0.1111111111111111,
              "#46039f"
             ],
             [
              0.2222222222222222,
              "#7201a8"
             ],
             [
              0.3333333333333333,
              "#9c179e"
             ],
             [
              0.4444444444444444,
              "#bd3786"
             ],
             [
              0.5555555555555556,
              "#d8576b"
             ],
             [
              0.6666666666666666,
              "#ed7953"
             ],
             [
              0.7777777777777778,
              "#fb9f3a"
             ],
             [
              0.8888888888888888,
              "#fdca26"
             ],
             [
              1,
              "#f0f921"
             ]
            ],
            "type": "heatmap"
           }
          ],
          "heatmapgl": [
           {
            "colorbar": {
             "outlinewidth": 0,
             "ticks": ""
            },
            "colorscale": [
             [
              0,
              "#0d0887"
             ],
             [
              0.1111111111111111,
              "#46039f"
             ],
             [
              0.2222222222222222,
              "#7201a8"
             ],
             [
              0.3333333333333333,
              "#9c179e"
             ],
             [
              0.4444444444444444,
              "#bd3786"
             ],
             [
              0.5555555555555556,
              "#d8576b"
             ],
             [
              0.6666666666666666,
              "#ed7953"
             ],
             [
              0.7777777777777778,
              "#fb9f3a"
             ],
             [
              0.8888888888888888,
              "#fdca26"
             ],
             [
              1,
              "#f0f921"
             ]
            ],
            "type": "heatmapgl"
           }
          ],
          "histogram": [
           {
            "marker": {
             "pattern": {
              "fillmode": "overlay",
              "size": 10,
              "solidity": 0.2
             }
            },
            "type": "histogram"
           }
          ],
          "histogram2d": [
           {
            "colorbar": {
             "outlinewidth": 0,
             "ticks": ""
            },
            "colorscale": [
             [
              0,
              "#0d0887"
             ],
             [
              0.1111111111111111,
              "#46039f"
             ],
             [
              0.2222222222222222,
              "#7201a8"
             ],
             [
              0.3333333333333333,
              "#9c179e"
             ],
             [
              0.4444444444444444,
              "#bd3786"
             ],
             [
              0.5555555555555556,
              "#d8576b"
             ],
             [
              0.6666666666666666,
              "#ed7953"
             ],
             [
              0.7777777777777778,
              "#fb9f3a"
             ],
             [
              0.8888888888888888,
              "#fdca26"
             ],
             [
              1,
              "#f0f921"
             ]
            ],
            "type": "histogram2d"
           }
          ],
          "histogram2dcontour": [
           {
            "colorbar": {
             "outlinewidth": 0,
             "ticks": ""
            },
            "colorscale": [
             [
              0,
              "#0d0887"
             ],
             [
              0.1111111111111111,
              "#46039f"
             ],
             [
              0.2222222222222222,
              "#7201a8"
             ],
             [
              0.3333333333333333,
              "#9c179e"
             ],
             [
              0.4444444444444444,
              "#bd3786"
             ],
             [
              0.5555555555555556,
              "#d8576b"
             ],
             [
              0.6666666666666666,
              "#ed7953"
             ],
             [
              0.7777777777777778,
              "#fb9f3a"
             ],
             [
              0.8888888888888888,
              "#fdca26"
             ],
             [
              1,
              "#f0f921"
             ]
            ],
            "type": "histogram2dcontour"
           }
          ],
          "mesh3d": [
           {
            "colorbar": {
             "outlinewidth": 0,
             "ticks": ""
            },
            "type": "mesh3d"
           }
          ],
          "parcoords": [
           {
            "line": {
             "colorbar": {
              "outlinewidth": 0,
              "ticks": ""
             }
            },
            "type": "parcoords"
           }
          ],
          "pie": [
           {
            "automargin": true,
            "type": "pie"
           }
          ],
          "scatter": [
           {
            "fillpattern": {
             "fillmode": "overlay",
             "size": 10,
             "solidity": 0.2
            },
            "type": "scatter"
           }
          ],
          "scatter3d": [
           {
            "line": {
             "colorbar": {
              "outlinewidth": 0,
              "ticks": ""
             }
            },
            "marker": {
             "colorbar": {
              "outlinewidth": 0,
              "ticks": ""
             }
            },
            "type": "scatter3d"
           }
          ],
          "scattercarpet": [
           {
            "marker": {
             "colorbar": {
              "outlinewidth": 0,
              "ticks": ""
             }
            },
            "type": "scattercarpet"
           }
          ],
          "scattergeo": [
           {
            "marker": {
             "colorbar": {
              "outlinewidth": 0,
              "ticks": ""
             }
            },
            "type": "scattergeo"
           }
          ],
          "scattergl": [
           {
            "marker": {
             "colorbar": {
              "outlinewidth": 0,
              "ticks": ""
             }
            },
            "type": "scattergl"
           }
          ],
          "scattermapbox": [
           {
            "marker": {
             "colorbar": {
              "outlinewidth": 0,
              "ticks": ""
             }
            },
            "type": "scattermapbox"
           }
          ],
          "scatterpolar": [
           {
            "marker": {
             "colorbar": {
              "outlinewidth": 0,
              "ticks": ""
             }
            },
            "type": "scatterpolar"
           }
          ],
          "scatterpolargl": [
           {
            "marker": {
             "colorbar": {
              "outlinewidth": 0,
              "ticks": ""
             }
            },
            "type": "scatterpolargl"
           }
          ],
          "scatterternary": [
           {
            "marker": {
             "colorbar": {
              "outlinewidth": 0,
              "ticks": ""
             }
            },
            "type": "scatterternary"
           }
          ],
          "surface": [
           {
            "colorbar": {
             "outlinewidth": 0,
             "ticks": ""
            },
            "colorscale": [
             [
              0,
              "#0d0887"
             ],
             [
              0.1111111111111111,
              "#46039f"
             ],
             [
              0.2222222222222222,
              "#7201a8"
             ],
             [
              0.3333333333333333,
              "#9c179e"
             ],
             [
              0.4444444444444444,
              "#bd3786"
             ],
             [
              0.5555555555555556,
              "#d8576b"
             ],
             [
              0.6666666666666666,
              "#ed7953"
             ],
             [
              0.7777777777777778,
              "#fb9f3a"
             ],
             [
              0.8888888888888888,
              "#fdca26"
             ],
             [
              1,
              "#f0f921"
             ]
            ],
            "type": "surface"
           }
          ],
          "table": [
           {
            "cells": {
             "fill": {
              "color": "#EBF0F8"
             },
             "line": {
              "color": "white"
             }
            },
            "header": {
             "fill": {
              "color": "#C8D4E3"
             },
             "line": {
              "color": "white"
             }
            },
            "type": "table"
           }
          ]
         },
         "layout": {
          "annotationdefaults": {
           "arrowcolor": "#2a3f5f",
           "arrowhead": 0,
           "arrowwidth": 1
          },
          "autotypenumbers": "strict",
          "coloraxis": {
           "colorbar": {
            "outlinewidth": 0,
            "ticks": ""
           }
          },
          "colorscale": {
           "diverging": [
            [
             0,
             "#8e0152"
            ],
            [
             0.1,
             "#c51b7d"
            ],
            [
             0.2,
             "#de77ae"
            ],
            [
             0.3,
             "#f1b6da"
            ],
            [
             0.4,
             "#fde0ef"
            ],
            [
             0.5,
             "#f7f7f7"
            ],
            [
             0.6,
             "#e6f5d0"
            ],
            [
             0.7,
             "#b8e186"
            ],
            [
             0.8,
             "#7fbc41"
            ],
            [
             0.9,
             "#4d9221"
            ],
            [
             1,
             "#276419"
            ]
           ],
           "sequential": [
            [
             0,
             "#0d0887"
            ],
            [
             0.1111111111111111,
             "#46039f"
            ],
            [
             0.2222222222222222,
             "#7201a8"
            ],
            [
             0.3333333333333333,
             "#9c179e"
            ],
            [
             0.4444444444444444,
             "#bd3786"
            ],
            [
             0.5555555555555556,
             "#d8576b"
            ],
            [
             0.6666666666666666,
             "#ed7953"
            ],
            [
             0.7777777777777778,
             "#fb9f3a"
            ],
            [
             0.8888888888888888,
             "#fdca26"
            ],
            [
             1,
             "#f0f921"
            ]
           ],
           "sequentialminus": [
            [
             0,
             "#0d0887"
            ],
            [
             0.1111111111111111,
             "#46039f"
            ],
            [
             0.2222222222222222,
             "#7201a8"
            ],
            [
             0.3333333333333333,
             "#9c179e"
            ],
            [
             0.4444444444444444,
             "#bd3786"
            ],
            [
             0.5555555555555556,
             "#d8576b"
            ],
            [
             0.6666666666666666,
             "#ed7953"
            ],
            [
             0.7777777777777778,
             "#fb9f3a"
            ],
            [
             0.8888888888888888,
             "#fdca26"
            ],
            [
             1,
             "#f0f921"
            ]
           ]
          },
          "colorway": [
           "#636efa",
           "#EF553B",
           "#00cc96",
           "#ab63fa",
           "#FFA15A",
           "#19d3f3",
           "#FF6692",
           "#B6E880",
           "#FF97FF",
           "#FECB52"
          ],
          "font": {
           "color": "#2a3f5f"
          },
          "geo": {
           "bgcolor": "white",
           "lakecolor": "white",
           "landcolor": "#E5ECF6",
           "showlakes": true,
           "showland": true,
           "subunitcolor": "white"
          },
          "hoverlabel": {
           "align": "left"
          },
          "hovermode": "closest",
          "mapbox": {
           "style": "light"
          },
          "paper_bgcolor": "white",
          "plot_bgcolor": "#E5ECF6",
          "polar": {
           "angularaxis": {
            "gridcolor": "white",
            "linecolor": "white",
            "ticks": ""
           },
           "bgcolor": "#E5ECF6",
           "radialaxis": {
            "gridcolor": "white",
            "linecolor": "white",
            "ticks": ""
           }
          },
          "scene": {
           "xaxis": {
            "backgroundcolor": "#E5ECF6",
            "gridcolor": "white",
            "gridwidth": 2,
            "linecolor": "white",
            "showbackground": true,
            "ticks": "",
            "zerolinecolor": "white"
           },
           "yaxis": {
            "backgroundcolor": "#E5ECF6",
            "gridcolor": "white",
            "gridwidth": 2,
            "linecolor": "white",
            "showbackground": true,
            "ticks": "",
            "zerolinecolor": "white"
           },
           "zaxis": {
            "backgroundcolor": "#E5ECF6",
            "gridcolor": "white",
            "gridwidth": 2,
            "linecolor": "white",
            "showbackground": true,
            "ticks": "",
            "zerolinecolor": "white"
           }
          },
          "shapedefaults": {
           "line": {
            "color": "#2a3f5f"
           }
          },
          "ternary": {
           "aaxis": {
            "gridcolor": "white",
            "linecolor": "white",
            "ticks": ""
           },
           "baxis": {
            "gridcolor": "white",
            "linecolor": "white",
            "ticks": ""
           },
           "bgcolor": "#E5ECF6",
           "caxis": {
            "gridcolor": "white",
            "linecolor": "white",
            "ticks": ""
           }
          },
          "title": {
           "x": 0.05
          },
          "xaxis": {
           "automargin": true,
           "gridcolor": "white",
           "linecolor": "white",
           "ticks": "",
           "title": {
            "standoff": 15
           },
           "zerolinecolor": "white",
           "zerolinewidth": 2
          },
          "yaxis": {
           "automargin": true,
           "gridcolor": "white",
           "linecolor": "white",
           "ticks": "",
           "title": {
            "standoff": 15
           },
           "zerolinecolor": "white",
           "zerolinewidth": 2
          }
         }
        },
        "title": {
         "text": "Distribuição de Faixas Etárias em Relação ao Ano"
        },
        "width": 1000,
        "xaxis": {
         "title": {
          "text": "Faixa Etária"
         }
        },
        "yaxis": {
         "showticklabels": false
        }
       }
      },
      "text/html": [
       "<div>                            <div id=\"8781f9ac-5965-439e-8fea-40d9d907224b\" class=\"plotly-graph-div\" style=\"height:600px; width:1000px;\"></div>            <script type=\"text/javascript\">                require([\"plotly\"], function(Plotly) {                    window.PLOTLYENV=window.PLOTLYENV || {};                                    if (document.getElementById(\"8781f9ac-5965-439e-8fea-40d9d907224b\")) {                    Plotly.newPlot(                        \"8781f9ac-5965-439e-8fea-40d9d907224b\",                        [{\"line\":{\"color\":\"white\"},\"mode\":\"lines\",\"x\":[\"<17\",\"17\",\"18\",\"19\",\"20\",\"21\",\"22\",\"23\",\"24\",\"25\",\"26-30\",\"31-35\",\"36-40\",\"41-45\",\"46-50\",\"51-55\",\"56-60\",\"61-65\",\"66-70\",\">70\"],\"y\":[10],\"type\":\"scatter\"},{\"fill\":\"tonexty\",\"name\":\"2013\",\"text\":[\"Num Candidatos: 541291\",\"Num Candidatos: 886075\",\"Num Candidatos: 758880\",\"Num Candidatos: 507031\",\"Num Candidatos: 359962\",\"Num Candidatos: 265208\",\"Num Candidatos: 209527\",\"Num Candidatos: 168275\",\"Num Candidatos: 147725\",\"Num Candidatos: 127394\",\"Num Candidatos: 427384\",\"Num Candidatos: 246721\",\"Num Candidatos: 151571\",\"Num Candidatos: 98830\",\"Num Candidatos: 62633\",\"Num Candidatos: 30982\",\"Num Candidatos: 12976\",\"Num Candidatos: 3925\",\"Num Candidatos: 1134\",\"Num Candidatos: 410\"],\"x\":[\"<17\",\"17\",\"18\",\"19\",\"20\",\"21\",\"22\",\"23\",\"24\",\"25\",\"26-30\",\"31-35\",\"36-40\",\"41-45\",\"46-50\",\"51-55\",\"56-60\",\"61-65\",\"66-70\",\">70\"],\"y\":[11.010706079612495,11.4,11.25638475044176,10.97202328194069,10.805968396628522,10.698982120779302,10.63611297725438,10.58953554673607,10.566332642703506,10.54337701049494,10.882094245566892,10.678108539910689,10.570675142407119,10.51112553843722,10.470255683582394,10.4345186949919,10.41418820886001,10.403968769229902,10.400817464842802,10.4],\"type\":\"scatter\"},{\"line\":{\"color\":\"white\"},\"mode\":\"lines\",\"x\":[\"<17\",\"17\",\"18\",\"19\",\"20\",\"21\",\"22\",\"23\",\"24\",\"25\",\"26-30\",\"31-35\",\"36-40\",\"41-45\",\"46-50\",\"51-55\",\"56-60\",\"61-65\",\"66-70\",\">70\"],\"y\":[9],\"type\":\"scatter\"},{\"fill\":\"tonexty\",\"name\":\"2014\",\"text\":[\"Num Candidatos: 695380\",\"Num Candidatos: 994058\",\"Num Candidatos: 851207\",\"Num Candidatos: 585031\",\"Num Candidatos: 426389\",\"Num Candidatos: 323184\",\"Num Candidatos: 250560\",\"Num Candidatos: 206396\",\"Num Candidatos: 169142\",\"Num Candidatos: 150708\",\"Num Candidatos: 517848\",\"Num Candidatos: 310640\",\"Num Candidatos: 194065\",\"Num Candidatos: 125985\",\"Num Candidatos: 80803\",\"Num Candidatos: 41622\",\"Num Candidatos: 17414\",\"Num Candidatos: 5428\",\"Num Candidatos: 1524\",\"Num Candidatos: 530\"],\"x\":[\"<17\",\"17\",\"18\",\"19\",\"20\",\"21\",\"22\",\"23\",\"24\",\"25\",\"26-30\",\"31-35\",\"36-40\",\"41-45\",\"46-50\",\"51-55\",\"56-60\",\"61-65\",\"66-70\",\">70\"],\"y\":[10.099376363826687,10.4,10.256218445781096,9.98830853282444,9.82863311351064,9.724755819664871,9.651658735335088,9.607207043988696,9.569710365485422,9.551156283466597,9.920687892037266,9.712130106046333,9.594795717886159,9.526272233897787,9.480795911136878,9.441359679847977,9.416993985071382,9.404929906353923,9.401000475074683,9.4],\"type\":\"scatter\"},{\"line\":{\"color\":\"white\"},\"mode\":\"lines\",\"x\":[\"<17\",\"17\",\"18\",\"19\",\"20\",\"21\",\"22\",\"23\",\"24\",\"25\",\"26-30\",\"31-35\",\"36-40\",\"41-45\",\"46-50\",\"51-55\",\"56-60\",\"61-65\",\"66-70\",\">70\"],\"y\":[8],\"type\":\"scatter\"},{\"fill\":\"tonexty\",\"name\":\"2015\",\"text\":[\"Num Candidatos: 606790\",\"Num Candidatos: 935504\",\"Num Candidatos: 859238\",\"Num Candidatos: 585022\",\"Num Candidatos: 426071\",\"Num Candidatos: 318457\",\"Num Candidatos: 248681\",\"Num Candidatos: 197293\",\"Num Candidatos: 164272\",\"Num Candidatos: 134219\",\"Num Candidatos: 466651\",\"Num Candidatos: 265709\",\"Num Candidatos: 166071\",\"Num Candidatos: 106331\",\"Num Candidatos: 66517\",\"Num Candidatos: 35912\",\"Num Candidatos: 15272\",\"Num Candidatos: 4927\",\"Num Candidatos: 1438\",\"Num Candidatos: 530\"],\"x\":[\"<17\",\"17\",\"18\",\"19\",\"20\",\"21\",\"22\",\"23\",\"24\",\"25\",\"26-30\",\"31-35\",\"36-40\",\"41-45\",\"46-50\",\"51-55\",\"56-60\",\"61-65\",\"66-70\",\">70\"],\"y\":[9.048424448166474,9.4,9.318429817299732,9.025142517332034,8.85513672037939,8.740038332616736,8.665409519409096,8.610447563247748,8.575130003615074,8.542986863805838,8.898538996806328,8.683621790552465,8.577054121291074,8.513159296408242,8.470576294100157,8.437842763542088,8.415767283368307,8.404702804569967,8.400971149999894,8.4],\"type\":\"scatter\"},{\"line\":{\"color\":\"white\"},\"mode\":\"lines\",\"x\":[\"<17\",\"17\",\"18\",\"19\",\"20\",\"21\",\"22\",\"23\",\"24\",\"25\",\"26-30\",\"31-35\",\"36-40\",\"41-45\",\"46-50\",\"51-55\",\"56-60\",\"61-65\",\"66-70\",\">70\"],\"y\":[7],\"type\":\"scatter\"},{\"fill\":\"tonexty\",\"name\":\"2016\",\"text\":[\"Num Candidatos: 646891\",\"Num Candidatos: 1021578\",\"Num Candidatos: 881146\",\"Num Candidatos: 621305\",\"Num Candidatos: 446447\",\"Num Candidatos: 335169\",\"Num Candidatos: 259434\",\"Num Candidatos: 206914\",\"Num Candidatos: 164965\",\"Num Candidatos: 137818\",\"Num Candidatos: 451327\",\"Num Candidatos: 257744\",\"Num Candidatos: 163670\",\"Num Candidatos: 102614\",\"Num Candidatos: 63874\",\"Num Candidatos: 35083\",\"Num Candidatos: 15031\",\"Num Candidatos: 5189\",\"Num Candidatos: 1547\",\"Num Candidatos: 518\"],\"x\":[\"<17\",\"17\",\"18\",\"19\",\"20\",\"21\",\"22\",\"23\",\"24\",\"25\",\"26-30\",\"31-35\",\"36-40\",\"41-45\",\"46-50\",\"51-55\",\"56-60\",\"61-65\",\"66-70\",\">70\"],\"y\":[8.033041153311265,8.4,8.262464497678883,8.007982880535913,7.8367314359587095,7.727748614185259,7.653575695845494,7.602138953636417,7.5610551779523245,7.534468101776586,7.841510782911876,7.651920553150648,7.559786888135859,7.499990206256244,7.462049242943608,7.433852075294302,7.414213660313792,7.404574657708656,7.401007776232543,7.4],\"type\":\"scatter\"},{\"line\":{\"color\":\"white\"},\"mode\":\"lines\",\"x\":[\"<17\",\"17\",\"18\",\"19\",\"20\",\"21\",\"22\",\"23\",\"24\",\"25\",\"26-30\",\"31-35\",\"36-40\",\"41-45\",\"46-50\",\"51-55\",\"56-60\",\"61-65\",\"66-70\",\">70\"],\"y\":[6],\"type\":\"scatter\"},{\"fill\":\"tonexty\",\"name\":\"2017\",\"text\":[\"Num Candidatos: 347275\",\"Num Candidatos: 824831\",\"Num Candidatos: 768328\",\"Num Candidatos: 487343\",\"Num Candidatos: 354929\",\"Num Candidatos: 257013\",\"Num Candidatos: 198898\",\"Num Candidatos: 155499\",\"Num Candidatos: 126155\",\"Num Candidatos: 101826\",\"Num Candidatos: 332875\",\"Num Candidatos: 191364\",\"Num Candidatos: 121499\",\"Num Candidatos: 72861\",\"Num Candidatos: 44753\",\"Num Candidatos: 24750\",\"Num Candidatos: 10945\",\"Num Candidatos: 3902\",\"Num Candidatos: 1206\",\"Num Candidatos: 440\"],\"x\":[\"<17\",\"17\",\"18\",\"19\",\"20\",\"21\",\"22\",\"23\",\"24\",\"25\",\"26-30\",\"31-35\",\"36-40\",\"41-45\",\"46-50\",\"51-55\",\"56-60\",\"61-65\",\"66-70\",\">70\"],\"y\":[6.8207166259699585,7.4,7.331460920849452,6.990621440554301,6.830001055324476,6.711227318105123,6.640732856132588,6.58808914701883,6.552494386765503,6.522982904956508,6.80324918636909,6.631593988774744,6.546846581294556,6.487847878009343,6.453752406321758,6.429488434492856,6.412742739792162,6.4041994636040425,6.400929170745435,6.4],\"type\":\"scatter\"},{\"line\":{\"color\":\"white\"},\"mode\":\"lines\",\"x\":[\"<17\",\"17\",\"18\",\"19\",\"20\",\"21\",\"22\",\"23\",\"24\",\"25\",\"26-30\",\"31-35\",\"36-40\",\"41-45\",\"46-50\",\"51-55\",\"56-60\",\"61-65\",\"66-70\",\">70\"],\"y\":[5],\"type\":\"scatter\"},{\"fill\":\"tonexty\",\"name\":\"2018\",\"text\":[\"Num Candidatos: 341549\",\"Num Candidatos: 753356\",\"Num Candidatos: 741154\",\"Num Candidatos: 451577\",\"Num Candidatos: 292443\",\"Num Candidatos: 212798\",\"Num Candidatos: 159073\",\"Num Candidatos: 125397\",\"Num Candidatos: 99234\",\"Num Candidatos: 80521\",\"Num Candidatos: 253363\",\"Num Candidatos: 147387\",\"Num Candidatos: 100644\",\"Num Candidatos: 60256\",\"Num Candidatos: 37754\",\"Num Candidatos: 21697\",\"Num Candidatos: 10060\",\"Num Candidatos: 3756\",\"Num Candidatos: 1264\",\"Num Candidatos: 446\"],\"x\":[\"<17\",\"17\",\"18\",\"19\",\"20\",\"21\",\"22\",\"23\",\"24\",\"25\",\"26-30\",\"31-35\",\"36-40\",\"41-45\",\"46-50\",\"51-55\",\"56-60\",\"61-65\",\"66-70\",\">70\"],\"y\":[5.853046180818425,6.4,6.383793547701585,5.999183169303104,5.787824573986267,5.682041678288242,5.6106852080593965,5.565957418549362,5.531208245341409,5.506354013095855,5.735919299783507,5.595164096638377,5.533080979134293,5.479438445498134,5.449551739251704,5.428225153072745,5.412769122471477,5.404396275783294,5.401086451235872,5.4],\"type\":\"scatter\"},{\"line\":{\"color\":\"white\"},\"mode\":\"lines\",\"x\":[\"<17\",\"17\",\"18\",\"19\",\"20\",\"21\",\"22\",\"23\",\"24\",\"25\",\"26-30\",\"31-35\",\"36-40\",\"41-45\",\"46-50\",\"51-55\",\"56-60\",\"61-65\",\"66-70\",\">70\"],\"y\":[4],\"type\":\"scatter\"},{\"fill\":\"tonexty\",\"name\":\"2019\",\"text\":[\"Num Candidatos: 351942\",\"Num Candidatos: 744684\",\"Num Candidatos: 709745\",\"Num Candidatos: 430184\",\"Num Candidatos: 285413\",\"Num Candidatos: 191301\",\"Num Candidatos: 147225\",\"Num Candidatos: 114240\",\"Num Candidatos: 92096\",\"Num Candidatos: 73272\",\"Num Candidatos: 223415\",\"Num Candidatos: 127952\",\"Num Candidatos: 88481\",\"Num Candidatos: 54078\",\"Num Candidatos: 33837\",\"Num Candidatos: 19360\",\"Num Candidatos: 9387\",\"Num Candidatos: 3591\",\"Num Candidatos: 1274\",\"Num Candidatos: 432\"],\"x\":[\"<17\",\"17\",\"18\",\"19\",\"20\",\"21\",\"22\",\"23\",\"24\",\"25\",\"26-30\",\"31-35\",\"36-40\",\"41-45\",\"46-50\",\"51-55\",\"56-60\",\"61-65\",\"66-70\",\">70\"],\"y\":[4.8722997049386505,5.4,5.353054879261326,4.977428075436815,4.7829092834147575,4.6564574902049305,4.597235613743733,4.552915947824125,4.52316258471593,4.497870076264491,4.6996068535926,4.571339815008895,4.518305358937565,4.472080424372391,4.444883990906306,4.425432246067192,4.412032214894955,4.404244530078522,4.401131337235238,4.4],\"type\":\"scatter\"},{\"line\":{\"color\":\"white\"},\"mode\":\"lines\",\"x\":[\"<17\",\"17\",\"18\",\"19\",\"20\",\"21\",\"22\",\"23\",\"24\",\"25\",\"26-30\",\"31-35\",\"36-40\",\"41-45\",\"46-50\",\"51-55\",\"56-60\",\"61-65\",\"66-70\",\">70\"],\"y\":[3],\"type\":\"scatter\"},{\"fill\":\"tonexty\",\"name\":\"2020\",\"text\":[\"Num Candidatos: 219569\",\"Num Candidatos: 518119\",\"Num Candidatos: 510044\",\"Num Candidatos: 297386\",\"Num Candidatos: 197070\",\"Num Candidatos: 136503\",\"Num Candidatos: 97472\",\"Num Candidatos: 79245\",\"Num Candidatos: 63744\",\"Num Candidatos: 52292\",\"Num Candidatos: 160080\",\"Num Candidatos: 93716\",\"Num Candidatos: 66661\",\"Num Candidatos: 43121\",\"Num Candidatos: 27435\",\"Num Candidatos: 15318\",\"Num Candidatos: 7155\",\"Num Candidatos: 2637\",\"Num Candidatos: 833\",\"Num Candidatos: 281\"],\"x\":[\"<17\",\"17\",\"18\",\"19\",\"20\",\"21\",\"22\",\"23\",\"24\",\"25\",\"26-30\",\"31-35\",\"36-40\",\"41-45\",\"46-50\",\"51-55\",\"56-60\",\"61-65\",\"66-70\",\">70\"],\"y\":[3.8234683433815206,4.4,4.384406320123282,3.97374120864054,3.7800203924779563,3.663059103426168,3.5876861103279403,3.5524878436885667,3.522553771642869,3.5004387472530016,3.708588786454451,3.580432876691166,3.5281868074571583,3.4827285753459574,3.452437248714849,3.4290380389233697,3.413274421730348,3.4045496854228543,3.4010659704386312,3.4],\"type\":\"scatter\"},{\"line\":{\"color\":\"white\"},\"mode\":\"lines\",\"x\":[\"<17\",\"17\",\"18\",\"19\",\"20\",\"21\",\"22\",\"23\",\"24\",\"25\",\"26-30\",\"31-35\",\"36-40\",\"41-45\",\"46-50\",\"51-55\",\"56-60\",\"61-65\",\"66-70\",\">70\"],\"y\":[2],\"type\":\"scatter\"},{\"fill\":\"tonexty\",\"name\":\"2021\",\"text\":[\"Num Candidatos: 232839\",\"Num Candidatos: 516508\",\"Num Candidatos: 524438\",\"Num Candidatos: 259966\",\"Num Candidatos: 151394\",\"Num Candidatos: 99476\",\"Num Candidatos: 69875\",\"Num Candidatos: 50704\",\"Num Candidatos: 40979\",\"Num Candidatos: 32499\",\"Num Candidatos: 98780\",\"Num Candidatos: 55879\",\"Num Candidatos: 40716\",\"Num Candidatos: 27010\",\"Num Candidatos: 17519\",\"Num Candidatos: 10581\",\"Num Candidatos: 5674\",\"Num Candidatos: 2216\",\"Num Candidatos: 744\",\"Num Candidatos: 310\"],\"x\":[\"<17\",\"17\",\"18\",\"19\",\"20\",\"21\",\"22\",\"23\",\"24\",\"25\",\"26-30\",\"31-35\",\"36-40\",\"41-45\",\"46-50\",\"51-55\",\"56-60\",\"61-65\",\"66-70\",\">70\"],\"y\":[2.8436492612491606,3.3848701080652055,3.4,2.8954057024238353,2.6882578301483604,2.5892018743513034,2.5327252121619144,2.4961482691250994,2.4775936412479393,2.4614143873252337,2.587873954453874,2.506021811465901,2.477091855424629,2.450941754685878,2.4328335826363023,2.4195963581415225,2.4102341412784662,2.4036365162708346,2.4008280420050063,2.4],\"type\":\"scatter\"},{\"line\":{\"color\":\"white\"},\"mode\":\"lines\",\"x\":[\"<17\",\"17\",\"18\",\"19\",\"20\",\"21\",\"22\",\"23\",\"24\",\"25\",\"26-30\",\"31-35\",\"36-40\",\"41-45\",\"46-50\",\"51-55\",\"56-60\",\"61-65\",\"66-70\",\">70\"],\"y\":[1],\"type\":\"scatter\"},{\"fill\":\"tonexty\",\"name\":\"2022\",\"text\":[\"Num Candidatos: 247749\",\"Num Candidatos: 576153\",\"Num Candidatos: 593355\",\"Num Candidatos: 269293\",\"Num Candidatos: 151508\",\"Num Candidatos: 95792\",\"Num Candidatos: 67515\",\"Num Candidatos: 49832\",\"Num Candidatos: 36867\",\"Num Candidatos: 30176\",\"Num Candidatos: 88159\",\"Num Candidatos: 47083\",\"Num Candidatos: 34339\",\"Num Candidatos: 23948\",\"Num Candidatos: 15339\",\"Num Candidatos: 9309\",\"Num Candidatos: 5149\",\"Num Candidatos: 2090\",\"Num Candidatos: 852\",\"Num Candidatos: 315\"],\"x\":[\"<17\",\"17\",\"18\",\"19\",\"20\",\"21\",\"22\",\"23\",\"24\",\"25\",\"26-30\",\"31-35\",\"36-40\",\"41-45\",\"46-50\",\"51-55\",\"56-60\",\"61-65\",\"66-70\",\">70\"],\"y\":[1.8172298664508295,2.370993524888709,2.4,1.8535579387562389,1.654945703493862,1.560995885606367,1.5133144475920681,1.4834968973425062,1.4616349656009713,1.4503524214218264,1.5481249156886552,1.4788614595980034,1.4573721840010792,1.4398506002967761,1.425333872925941,1.4151659247268311,1.4081512208282745,1.4029930527451775,1.4009055038445974,1.4],\"type\":\"scatter\"}],                        {\"template\":{\"data\":{\"histogram2dcontour\":[{\"type\":\"histogram2dcontour\",\"colorbar\":{\"outlinewidth\":0,\"ticks\":\"\"},\"colorscale\":[[0.0,\"#0d0887\"],[0.1111111111111111,\"#46039f\"],[0.2222222222222222,\"#7201a8\"],[0.3333333333333333,\"#9c179e\"],[0.4444444444444444,\"#bd3786\"],[0.5555555555555556,\"#d8576b\"],[0.6666666666666666,\"#ed7953\"],[0.7777777777777778,\"#fb9f3a\"],[0.8888888888888888,\"#fdca26\"],[1.0,\"#f0f921\"]]}],\"choropleth\":[{\"type\":\"choropleth\",\"colorbar\":{\"outlinewidth\":0,\"ticks\":\"\"}}],\"histogram2d\":[{\"type\":\"histogram2d\",\"colorbar\":{\"outlinewidth\":0,\"ticks\":\"\"},\"colorscale\":[[0.0,\"#0d0887\"],[0.1111111111111111,\"#46039f\"],[0.2222222222222222,\"#7201a8\"],[0.3333333333333333,\"#9c179e\"],[0.4444444444444444,\"#bd3786\"],[0.5555555555555556,\"#d8576b\"],[0.6666666666666666,\"#ed7953\"],[0.7777777777777778,\"#fb9f3a\"],[0.8888888888888888,\"#fdca26\"],[1.0,\"#f0f921\"]]}],\"heatmap\":[{\"type\":\"heatmap\",\"colorbar\":{\"outlinewidth\":0,\"ticks\":\"\"},\"colorscale\":[[0.0,\"#0d0887\"],[0.1111111111111111,\"#46039f\"],[0.2222222222222222,\"#7201a8\"],[0.3333333333333333,\"#9c179e\"],[0.4444444444444444,\"#bd3786\"],[0.5555555555555556,\"#d8576b\"],[0.6666666666666666,\"#ed7953\"],[0.7777777777777778,\"#fb9f3a\"],[0.8888888888888888,\"#fdca26\"],[1.0,\"#f0f921\"]]}],\"heatmapgl\":[{\"type\":\"heatmapgl\",\"colorbar\":{\"outlinewidth\":0,\"ticks\":\"\"},\"colorscale\":[[0.0,\"#0d0887\"],[0.1111111111111111,\"#46039f\"],[0.2222222222222222,\"#7201a8\"],[0.3333333333333333,\"#9c179e\"],[0.4444444444444444,\"#bd3786\"],[0.5555555555555556,\"#d8576b\"],[0.6666666666666666,\"#ed7953\"],[0.7777777777777778,\"#fb9f3a\"],[0.8888888888888888,\"#fdca26\"],[1.0,\"#f0f921\"]]}],\"contourcarpet\":[{\"type\":\"contourcarpet\",\"colorbar\":{\"outlinewidth\":0,\"ticks\":\"\"}}],\"contour\":[{\"type\":\"contour\",\"colorbar\":{\"outlinewidth\":0,\"ticks\":\"\"},\"colorscale\":[[0.0,\"#0d0887\"],[0.1111111111111111,\"#46039f\"],[0.2222222222222222,\"#7201a8\"],[0.3333333333333333,\"#9c179e\"],[0.4444444444444444,\"#bd3786\"],[0.5555555555555556,\"#d8576b\"],[0.6666666666666666,\"#ed7953\"],[0.7777777777777778,\"#fb9f3a\"],[0.8888888888888888,\"#fdca26\"],[1.0,\"#f0f921\"]]}],\"surface\":[{\"type\":\"surface\",\"colorbar\":{\"outlinewidth\":0,\"ticks\":\"\"},\"colorscale\":[[0.0,\"#0d0887\"],[0.1111111111111111,\"#46039f\"],[0.2222222222222222,\"#7201a8\"],[0.3333333333333333,\"#9c179e\"],[0.4444444444444444,\"#bd3786\"],[0.5555555555555556,\"#d8576b\"],[0.6666666666666666,\"#ed7953\"],[0.7777777777777778,\"#fb9f3a\"],[0.8888888888888888,\"#fdca26\"],[1.0,\"#f0f921\"]]}],\"mesh3d\":[{\"type\":\"mesh3d\",\"colorbar\":{\"outlinewidth\":0,\"ticks\":\"\"}}],\"scatter\":[{\"fillpattern\":{\"fillmode\":\"overlay\",\"size\":10,\"solidity\":0.2},\"type\":\"scatter\"}],\"parcoords\":[{\"type\":\"parcoords\",\"line\":{\"colorbar\":{\"outlinewidth\":0,\"ticks\":\"\"}}}],\"scatterpolargl\":[{\"type\":\"scatterpolargl\",\"marker\":{\"colorbar\":{\"outlinewidth\":0,\"ticks\":\"\"}}}],\"bar\":[{\"error_x\":{\"color\":\"#2a3f5f\"},\"error_y\":{\"color\":\"#2a3f5f\"},\"marker\":{\"line\":{\"color\":\"#E5ECF6\",\"width\":0.5},\"pattern\":{\"fillmode\":\"overlay\",\"size\":10,\"solidity\":0.2}},\"type\":\"bar\"}],\"scattergeo\":[{\"type\":\"scattergeo\",\"marker\":{\"colorbar\":{\"outlinewidth\":0,\"ticks\":\"\"}}}],\"scatterpolar\":[{\"type\":\"scatterpolar\",\"marker\":{\"colorbar\":{\"outlinewidth\":0,\"ticks\":\"\"}}}],\"histogram\":[{\"marker\":{\"pattern\":{\"fillmode\":\"overlay\",\"size\":10,\"solidity\":0.2}},\"type\":\"histogram\"}],\"scattergl\":[{\"type\":\"scattergl\",\"marker\":{\"colorbar\":{\"outlinewidth\":0,\"ticks\":\"\"}}}],\"scatter3d\":[{\"type\":\"scatter3d\",\"line\":{\"colorbar\":{\"outlinewidth\":0,\"ticks\":\"\"}},\"marker\":{\"colorbar\":{\"outlinewidth\":0,\"ticks\":\"\"}}}],\"scattermapbox\":[{\"type\":\"scattermapbox\",\"marker\":{\"colorbar\":{\"outlinewidth\":0,\"ticks\":\"\"}}}],\"scatterternary\":[{\"type\":\"scatterternary\",\"marker\":{\"colorbar\":{\"outlinewidth\":0,\"ticks\":\"\"}}}],\"scattercarpet\":[{\"type\":\"scattercarpet\",\"marker\":{\"colorbar\":{\"outlinewidth\":0,\"ticks\":\"\"}}}],\"carpet\":[{\"aaxis\":{\"endlinecolor\":\"#2a3f5f\",\"gridcolor\":\"white\",\"linecolor\":\"white\",\"minorgridcolor\":\"white\",\"startlinecolor\":\"#2a3f5f\"},\"baxis\":{\"endlinecolor\":\"#2a3f5f\",\"gridcolor\":\"white\",\"linecolor\":\"white\",\"minorgridcolor\":\"white\",\"startlinecolor\":\"#2a3f5f\"},\"type\":\"carpet\"}],\"table\":[{\"cells\":{\"fill\":{\"color\":\"#EBF0F8\"},\"line\":{\"color\":\"white\"}},\"header\":{\"fill\":{\"color\":\"#C8D4E3\"},\"line\":{\"color\":\"white\"}},\"type\":\"table\"}],\"barpolar\":[{\"marker\":{\"line\":{\"color\":\"#E5ECF6\",\"width\":0.5},\"pattern\":{\"fillmode\":\"overlay\",\"size\":10,\"solidity\":0.2}},\"type\":\"barpolar\"}],\"pie\":[{\"automargin\":true,\"type\":\"pie\"}]},\"layout\":{\"autotypenumbers\":\"strict\",\"colorway\":[\"#636efa\",\"#EF553B\",\"#00cc96\",\"#ab63fa\",\"#FFA15A\",\"#19d3f3\",\"#FF6692\",\"#B6E880\",\"#FF97FF\",\"#FECB52\"],\"font\":{\"color\":\"#2a3f5f\"},\"hovermode\":\"closest\",\"hoverlabel\":{\"align\":\"left\"},\"paper_bgcolor\":\"white\",\"plot_bgcolor\":\"#E5ECF6\",\"polar\":{\"bgcolor\":\"#E5ECF6\",\"angularaxis\":{\"gridcolor\":\"white\",\"linecolor\":\"white\",\"ticks\":\"\"},\"radialaxis\":{\"gridcolor\":\"white\",\"linecolor\":\"white\",\"ticks\":\"\"}},\"ternary\":{\"bgcolor\":\"#E5ECF6\",\"aaxis\":{\"gridcolor\":\"white\",\"linecolor\":\"white\",\"ticks\":\"\"},\"baxis\":{\"gridcolor\":\"white\",\"linecolor\":\"white\",\"ticks\":\"\"},\"caxis\":{\"gridcolor\":\"white\",\"linecolor\":\"white\",\"ticks\":\"\"}},\"coloraxis\":{\"colorbar\":{\"outlinewidth\":0,\"ticks\":\"\"}},\"colorscale\":{\"sequential\":[[0.0,\"#0d0887\"],[0.1111111111111111,\"#46039f\"],[0.2222222222222222,\"#7201a8\"],[0.3333333333333333,\"#9c179e\"],[0.4444444444444444,\"#bd3786\"],[0.5555555555555556,\"#d8576b\"],[0.6666666666666666,\"#ed7953\"],[0.7777777777777778,\"#fb9f3a\"],[0.8888888888888888,\"#fdca26\"],[1.0,\"#f0f921\"]],\"sequentialminus\":[[0.0,\"#0d0887\"],[0.1111111111111111,\"#46039f\"],[0.2222222222222222,\"#7201a8\"],[0.3333333333333333,\"#9c179e\"],[0.4444444444444444,\"#bd3786\"],[0.5555555555555556,\"#d8576b\"],[0.6666666666666666,\"#ed7953\"],[0.7777777777777778,\"#fb9f3a\"],[0.8888888888888888,\"#fdca26\"],[1.0,\"#f0f921\"]],\"diverging\":[[0,\"#8e0152\"],[0.1,\"#c51b7d\"],[0.2,\"#de77ae\"],[0.3,\"#f1b6da\"],[0.4,\"#fde0ef\"],[0.5,\"#f7f7f7\"],[0.6,\"#e6f5d0\"],[0.7,\"#b8e186\"],[0.8,\"#7fbc41\"],[0.9,\"#4d9221\"],[1,\"#276419\"]]},\"xaxis\":{\"gridcolor\":\"white\",\"linecolor\":\"white\",\"ticks\":\"\",\"title\":{\"standoff\":15},\"zerolinecolor\":\"white\",\"automargin\":true,\"zerolinewidth\":2},\"yaxis\":{\"gridcolor\":\"white\",\"linecolor\":\"white\",\"ticks\":\"\",\"title\":{\"standoff\":15},\"zerolinecolor\":\"white\",\"automargin\":true,\"zerolinewidth\":2},\"scene\":{\"xaxis\":{\"backgroundcolor\":\"#E5ECF6\",\"gridcolor\":\"white\",\"linecolor\":\"white\",\"showbackground\":true,\"ticks\":\"\",\"zerolinecolor\":\"white\",\"gridwidth\":2},\"yaxis\":{\"backgroundcolor\":\"#E5ECF6\",\"gridcolor\":\"white\",\"linecolor\":\"white\",\"showbackground\":true,\"ticks\":\"\",\"zerolinecolor\":\"white\",\"gridwidth\":2},\"zaxis\":{\"backgroundcolor\":\"#E5ECF6\",\"gridcolor\":\"white\",\"linecolor\":\"white\",\"showbackground\":true,\"ticks\":\"\",\"zerolinecolor\":\"white\",\"gridwidth\":2}},\"shapedefaults\":{\"line\":{\"color\":\"#2a3f5f\"}},\"annotationdefaults\":{\"arrowcolor\":\"#2a3f5f\",\"arrowhead\":0,\"arrowwidth\":1},\"geo\":{\"bgcolor\":\"white\",\"landcolor\":\"#E5ECF6\",\"subunitcolor\":\"white\",\"showland\":true,\"showlakes\":true,\"lakecolor\":\"white\"},\"title\":{\"x\":0.05},\"mapbox\":{\"style\":\"light\"}}},\"annotations\":[{\"showarrow\":false,\"text\":\"2013\",\"x\":-0.6,\"y\":10,\"yshift\":7},{\"showarrow\":false,\"text\":\"2014\",\"x\":-0.6,\"y\":9,\"yshift\":7},{\"showarrow\":false,\"text\":\"2015\",\"x\":-0.6,\"y\":8,\"yshift\":7},{\"showarrow\":false,\"text\":\"2016\",\"x\":-0.6,\"y\":7,\"yshift\":7},{\"showarrow\":false,\"text\":\"2017\",\"x\":-0.6,\"y\":6,\"yshift\":7},{\"showarrow\":false,\"text\":\"2018\",\"x\":-0.6,\"y\":5,\"yshift\":7},{\"showarrow\":false,\"text\":\"2019\",\"x\":-0.6,\"y\":4,\"yshift\":7},{\"showarrow\":false,\"text\":\"2020\",\"x\":-0.6,\"y\":3,\"yshift\":7},{\"showarrow\":false,\"text\":\"2021\",\"x\":-0.6,\"y\":2,\"yshift\":7},{\"showarrow\":false,\"text\":\"2022\",\"x\":-0.6,\"y\":1,\"yshift\":7}],\"yaxis\":{\"showticklabels\":false},\"title\":{\"text\":\"Distribui\\u00e7\\u00e3o de Faixas Et\\u00e1rias em Rela\\u00e7\\u00e3o ao Ano\"},\"showlegend\":false,\"xaxis\":{\"title\":{\"text\":\"Faixa Et\\u00e1ria\"}},\"width\":1000,\"height\":600},                        {\"responsive\": true}                    ).then(function(){\n",
       "                            \n",
       "var gd = document.getElementById('8781f9ac-5965-439e-8fea-40d9d907224b');\n",
       "var x = new MutationObserver(function (mutations, observer) {{\n",
       "        var display = window.getComputedStyle(gd).display;\n",
       "        if (!display || display === 'none') {{\n",
       "            console.log([gd, 'removed!']);\n",
       "            Plotly.purge(gd);\n",
       "            observer.disconnect();\n",
       "        }}\n",
       "}});\n",
       "\n",
       "// Listen for the removal of the full notebook cells\n",
       "var notebookContainer = gd.closest('#notebook-container');\n",
       "if (notebookContainer) {{\n",
       "    x.observe(notebookContainer, {childList: true});\n",
       "}}\n",
       "\n",
       "// Listen for the clearing of the current output cell\n",
       "var outputEl = gd.closest('.output');\n",
       "if (outputEl) {{\n",
       "    x.observe(outputEl, {childList: true});\n",
       "}}\n",
       "\n",
       "                        })                };                });            </script>        </div>"
      ]
     },
     "metadata": {},
     "output_type": "display_data"
    }
   ],
   "source": [
    "fig = go.Figure()\n",
    "for index, year in enumerate(year_list):\n",
    "    fig.add_trace(go.Scatter(\n",
    "                            x=faixas_etarias,\n",
    "                            y=np.full(1, len(year_list)-index),\n",
    "                            mode='lines',\n",
    "                            line_color='white'))\n",
    "    \n",
    "    fig.add_trace(go.Scatter(\n",
    "                            x=array_dict[f'x_{year}'],\n",
    "                            y=array_dict[f'y_{year}_norm'] + (len(year_list)-index) + 0.4,\n",
    "                            fill='tonexty',\n",
    "                            text=array_dict[f'y_{year}'],\n",
    "                            name=f'{year}'))\n",
    "    \n",
    "    # plotly.graph_objects' way of adding text to a figure\n",
    "    fig.add_annotation(\n",
    "                        x=-0.6,\n",
    "                        y=len(year_list)-index,\n",
    "                        text=f'{year}',\n",
    "                        showarrow=False,\n",
    "                        yshift=7)\n",
    "\n",
    "# here you can modify the figure and the legend titles\n",
    "fig.update_layout(\n",
    "                title='Distribuição de Faixas Etárias em Relação ao Ano',\n",
    "                showlegend=False,\n",
    "                xaxis=dict(title='Faixa Etária'),\n",
    "                yaxis=dict(showticklabels=False),\n",
    "                width=1000,\n",
    "                height=600\n",
    "                )\n",
    "\n",
    "fig.show()"
   ]
  },
  {
   "cell_type": "markdown",
   "id": "1a7dee44-0161-4777-b322-3011f035033c",
   "metadata": {},
   "source": [
    "## NOTA_MEDIA"
   ]
  },
  {
   "cell_type": "code",
   "execution_count": 18,
   "id": "892b0ebe",
   "metadata": {
    "scrolled": true
   },
   "outputs": [
    {
     "data": {
      "text/html": [
       "<div>\n",
       "<style scoped>\n",
       "    .dataframe tbody tr th:only-of-type {\n",
       "        vertical-align: middle;\n",
       "    }\n",
       "\n",
       "    .dataframe tbody tr th {\n",
       "        vertical-align: top;\n",
       "    }\n",
       "\n",
       "    .dataframe thead th {\n",
       "        text-align: right;\n",
       "    }\n",
       "</style>\n",
       "<table border=\"1\" class=\"dataframe\">\n",
       "  <thead>\n",
       "    <tr style=\"text-align: right;\">\n",
       "      <th></th>\n",
       "      <th>2013</th>\n",
       "      <th>2014</th>\n",
       "      <th>2015</th>\n",
       "      <th>2016</th>\n",
       "      <th>2017</th>\n",
       "      <th>2018</th>\n",
       "      <th>2019</th>\n",
       "      <th>2020</th>\n",
       "      <th>2021</th>\n",
       "      <th>2022</th>\n",
       "    </tr>\n",
       "  </thead>\n",
       "  <tbody>\n",
       "    <tr>\n",
       "      <th>0</th>\n",
       "      <td>450</td>\n",
       "      <td>490</td>\n",
       "      <td>560</td>\n",
       "      <td>540</td>\n",
       "      <td>470</td>\n",
       "      <td>510</td>\n",
       "      <td>490</td>\n",
       "      <td>450</td>\n",
       "      <td>450</td>\n",
       "      <td>490</td>\n",
       "    </tr>\n",
       "    <tr>\n",
       "      <th>1</th>\n",
       "      <td>420</td>\n",
       "      <td>490</td>\n",
       "      <td>460</td>\n",
       "      <td>500</td>\n",
       "      <td>530</td>\n",
       "      <td>630</td>\n",
       "      <td>520</td>\n",
       "      <td>540</td>\n",
       "      <td>690</td>\n",
       "      <td>630</td>\n",
       "    </tr>\n",
       "    <tr>\n",
       "      <th>2</th>\n",
       "      <td>450</td>\n",
       "      <td>460</td>\n",
       "      <td>670</td>\n",
       "      <td>470</td>\n",
       "      <td>550</td>\n",
       "      <td>440</td>\n",
       "      <td>530</td>\n",
       "      <td>510</td>\n",
       "      <td>660</td>\n",
       "      <td>630</td>\n",
       "    </tr>\n",
       "    <tr>\n",
       "      <th>3</th>\n",
       "      <td>450</td>\n",
       "      <td>470</td>\n",
       "      <td>570</td>\n",
       "      <td>430</td>\n",
       "      <td>540</td>\n",
       "      <td>570</td>\n",
       "      <td>640</td>\n",
       "      <td>500</td>\n",
       "      <td>610</td>\n",
       "      <td>600</td>\n",
       "    </tr>\n",
       "    <tr>\n",
       "      <th>4</th>\n",
       "      <td>570</td>\n",
       "      <td>520</td>\n",
       "      <td>480</td>\n",
       "      <td>650</td>\n",
       "      <td>530</td>\n",
       "      <td>550</td>\n",
       "      <td>580</td>\n",
       "      <td>400</td>\n",
       "      <td>460</td>\n",
       "      <td>450</td>\n",
       "    </tr>\n",
       "    <tr>\n",
       "      <th>...</th>\n",
       "      <td>...</td>\n",
       "      <td>...</td>\n",
       "      <td>...</td>\n",
       "      <td>...</td>\n",
       "      <td>...</td>\n",
       "      <td>...</td>\n",
       "      <td>...</td>\n",
       "      <td>...</td>\n",
       "      <td>...</td>\n",
       "      <td>...</td>\n",
       "    </tr>\n",
       "    <tr>\n",
       "      <th>299995</th>\n",
       "      <td>490</td>\n",
       "      <td>500</td>\n",
       "      <td>510</td>\n",
       "      <td>550</td>\n",
       "      <td>540</td>\n",
       "      <td>490</td>\n",
       "      <td>490</td>\n",
       "      <td>490</td>\n",
       "      <td>520</td>\n",
       "      <td>500</td>\n",
       "    </tr>\n",
       "    <tr>\n",
       "      <th>299996</th>\n",
       "      <td>470</td>\n",
       "      <td>450</td>\n",
       "      <td>440</td>\n",
       "      <td>580</td>\n",
       "      <td>400</td>\n",
       "      <td>490</td>\n",
       "      <td>490</td>\n",
       "      <td>560</td>\n",
       "      <td>580</td>\n",
       "      <td>430</td>\n",
       "    </tr>\n",
       "    <tr>\n",
       "      <th>299997</th>\n",
       "      <td>490</td>\n",
       "      <td>530</td>\n",
       "      <td>390</td>\n",
       "      <td>610</td>\n",
       "      <td>510</td>\n",
       "      <td>480</td>\n",
       "      <td>450</td>\n",
       "      <td>700</td>\n",
       "      <td>570</td>\n",
       "      <td>490</td>\n",
       "    </tr>\n",
       "    <tr>\n",
       "      <th>299998</th>\n",
       "      <td>530</td>\n",
       "      <td>610</td>\n",
       "      <td>410</td>\n",
       "      <td>570</td>\n",
       "      <td>420</td>\n",
       "      <td>480</td>\n",
       "      <td>360</td>\n",
       "      <td>430</td>\n",
       "      <td>620</td>\n",
       "      <td>530</td>\n",
       "    </tr>\n",
       "    <tr>\n",
       "      <th>299999</th>\n",
       "      <td>500</td>\n",
       "      <td>520</td>\n",
       "      <td>480</td>\n",
       "      <td>450</td>\n",
       "      <td>440</td>\n",
       "      <td>530</td>\n",
       "      <td>580</td>\n",
       "      <td>480</td>\n",
       "      <td>490</td>\n",
       "      <td>510</td>\n",
       "    </tr>\n",
       "  </tbody>\n",
       "</table>\n",
       "<p>300000 rows × 10 columns</p>\n",
       "</div>"
      ],
      "text/plain": [
       "        2013  2014  2015  2016  2017  2018  2019  2020  2021  2022\n",
       "0        450   490   560   540   470   510   490   450   450   490\n",
       "1        420   490   460   500   530   630   520   540   690   630\n",
       "2        450   460   670   470   550   440   530   510   660   630\n",
       "3        450   470   570   430   540   570   640   500   610   600\n",
       "4        570   520   480   650   530   550   580   400   460   450\n",
       "...      ...   ...   ...   ...   ...   ...   ...   ...   ...   ...\n",
       "299995   490   500   510   550   540   490   490   490   520   500\n",
       "299996   470   450   440   580   400   490   490   560   580   430\n",
       "299997   490   530   390   610   510   480   450   700   570   490\n",
       "299998   530   610   410   570   420   480   360   430   620   530\n",
       "299999   500   520   480   450   440   530   580   480   490   510\n",
       "\n",
       "[300000 rows x 10 columns]"
      ]
     },
     "execution_count": 18,
     "metadata": {},
     "output_type": "execute_result"
    }
   ],
   "source": [
    "array_dict = {}\n",
    "sample = 50000\n",
    "\n",
    "for year in year_list:\n",
    "    sub = df[df.ANO == year]\n",
    "    array_dict[year] = sub['NOTA_MEDIA'].tolist()\n",
    "    array_dict[year] = stratify_sampling(array_dict[year], sample)\n",
    "    while len(array_dict[year]) < sample:\n",
    "        array_dict[year].append(nan)\n",
    "\n",
    "data = np.array([array_dict[2013], array_dict[2014], array_dict[2015],\n",
    "                 array_dict[2016], array_dict[2017], array_dict[2018],\n",
    "                 array_dict[2019], array_dict[2020], array_dict[2021],\n",
    "                 array_dict[2022]])\n",
    "graph = pd.DataFrame(columns=year_list, data=data.T)\n",
    "graph"
   ]
  },
  {
   "cell_type": "code",
   "execution_count": 23,
   "id": "f3c48449",
   "metadata": {},
   "outputs": [],
   "source": [
    "fig = ridgeplot(\n",
    "    samples=graph.values.T,\n",
    "    bandwidth=10,\n",
    "    colorscale=\"viridis\",\n",
    "    colormode=\"index\",\n",
    "    coloralpha=0.6,\n",
    "    labels=year_list,\n",
    "    spacing=1\n",
    ")\n",
    "\n",
    "fig.update_layout(\n",
    "    title=\"Distribuição das Notas Médias em Relação ao Ano\",\n",
    "    height=650,\n",
    "    width=800,\n",
    "    plot_bgcolor=\"rgba(255, 255, 255, 0.0)\",\n",
    "    xaxis_gridcolor=\"rgba(0, 0, 0, 0.1)\",\n",
    "    yaxis_gridcolor=\"rgba(0, 0, 0, 0.1)\",\n",
    "    xaxis_title=\"Nota Média\",\n",
    "    yaxis_title=\"Ano\"\n",
    ")\n",
    "\n",
    "with open('../data/vis02.html', 'w') as f:\n",
    "    f.writelines(to_html(fig, include_plotlyjs='cnd', full_html=True))"
   ]
  },
  {
   "cell_type": "code",
   "execution_count": null,
   "id": "6a041721",
   "metadata": {},
   "outputs": [],
   "source": []
  }
 ],
 "metadata": {
  "kernelspec": {
   "display_name": "Python 3 (ipykernel)",
   "language": "python",
   "name": "python3"
  },
  "language_info": {
   "codemirror_mode": {
    "name": "ipython",
    "version": 3
   },
   "file_extension": ".py",
   "mimetype": "text/x-python",
   "name": "python",
   "nbconvert_exporter": "python",
   "pygments_lexer": "ipython3",
   "version": "3.8.16"
  }
 },
 "nbformat": 4,
 "nbformat_minor": 5
}
